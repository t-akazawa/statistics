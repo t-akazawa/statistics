{
 "cells": [
  {
   "cell_type": "markdown",
   "metadata": {},
   "source": [
    "#### 統計検定2級 学習資料\n",
    "\n",
    "公式サイトの出題範囲表の用語と関連事項をまとめる。"
   ]
  },
  {
   "cell_type": "markdown",
   "metadata": {},
   "source": [
    "----\n",
    "\n",
    "## 1. データの分布"
   ]
  },
  {
   "cell_type": "markdown",
   "metadata": {},
   "source": [
    "\n",
    "### 1.1. データの分布の記述\n",
    "\n",
    "ねらい：集められたデータから，基本的な情報を抽出する方法を理解する。"
   ]
  },
  {
   "cell_type": "markdown",
   "metadata": {},
   "source": [
    "----\n",
    "\n",
    "#### 項目（学習しておくべき用語）\n",
    "\n",
    "|番号|項目|alias|\n",
    "|:---:|:---:|:---:|\n",
    "|ch1_1-1|質的変数|qualitative variable, (カテゴリカル)|\n",
    "|ch1_1-2|量的変数|quantitative variable|\n",
    "|ch1_1-3|幹葉図(みきはず)|stem-and-leaf display|\n",
    "|ch1_1-4|度数分布表|frequency distribution table|\n",
    "|ch1_1-5|ヒストグラム|-|\n",
    "|ch1_1-6|累積度数グラフ|cumulative frequency graph|\n"
   ]
  },
  {
   "cell_type": "markdown",
   "metadata": {},
   "source": [
    "----\n",
    "\n",
    "#### ch1_1-1 質的変数\n",
    "#### ch1_1-2 量的変数\n",
    "\n",
    "統計学のコンテキストでいう変数の意味は、調査される項目のこと。  \n",
    "データベースのコンテキストでいうと列や属性にあたる。  \n",
    "\n",
    "質的変数=カテゴリで表す。クラス（まとまり）分けすることが目的で数字だとしても値の大小に意味はない。  \n",
    "量的変数=数量（観測値）で表される。数字の大小に意味があり、連続量や時系列データとして扱う。 \n",
    "\n",
    "\n",
    "|クラス|学生番号|名前|成績ランク|総合点|\n",
    "|:---|:---|:---|:---|:---|\n",
    "|1|X000001|山田太郎|S|498|\n",
    "|2|X000002|田中次郎|D|150|\n",
    "\n",
    "\n",
    "上記の例だと、  \n",
    "  変数: [クラス、学生番号、名前、成績ランク、総合点],  \n",
    "  量的変数: [総合点],  \n",
    "  質的変数: [クラス、学生番号、名前、成績ランク]\n",
    "  \n",
    "  量的変数のデータを量的データという。例では、総合点の498,150が量的データである。\n",
    "  \n",
    "----"
   ]
  },
  {
   "cell_type": "markdown",
   "metadata": {},
   "source": [
    "#### ch1_1-3 幹葉図\n",
    "\n",
    "例：10人クラスで英語の点数が、[10,11,21,22,22,23,27,30,36,40]だったとする。\n",
    "\n",
    "点数の幹葉図は以下のようになる。\n",
    "\n",
    "```bash\n",
    "1 | 01      # 10,11             #10の位を左側に書き、1の位を右側に書く\n",
    "2 | 12237   # 21,22,22,23,27 => # 2{1,2,2,3,7} => 2 | 12237\n",
    "3 | 06      # 30,36\n",
    "4 | 0       # 40\n",
    "```\n",
    "\n",
    "例では10の位で分けたが、桁数が多い場合の分け方は出題ごとに変わる。\n",
    "中央値は5番目と6番目の値を2で割れば導出できる。 (22+23)/2 = 22.5"
   ]
  },
  {
   "cell_type": "code",
   "execution_count": 40,
   "metadata": {},
   "outputs": [
    {
     "name": "stdout",
     "output_type": "stream",
     "text": [
      "22.5\n"
     ]
    }
   ],
   "source": [
    "# 幹葉図 中央値導出の確認 python\n",
    "\n",
    "import math\n",
    "\n",
    "# print median\n",
    "data = [10,11,21,22,22,23,27,30,36,40]\n",
    "data_len = len(data)\n",
    "data_sorted = sorted(data)\n",
    "half = math.floor(data_len/2)\n",
    "median = (data_sorted[half-1]+data_sorted[half])/2\n",
    "\n",
    "print(median)"
   ]
  },
  {
   "cell_type": "markdown",
   "metadata": {},
   "source": [
    "プログラムで導出した中央値と幹葉図から導出した中央値が一致した。\n",
    "\n",
    "----"
   ]
  },
  {
   "cell_type": "markdown",
   "metadata": {},
   "source": [
    "#### ch1_1-4 度数分布表\n",
    "#### ch1_1-5 ヒストグラム\n",
    "\n",
    "度数分布表=特性値と，その度数または相対度数との関係を観測したもの(日本工業規格)   \n",
    "ヒストグラム=度数分布表から作成する柱状のグラフ  \n",
    "\n",
    "...( ・∇・)実際に手を動かす(pandas詳しくない人はググってください)\n",
    "\n",
    "話題の仮想通貨の情報をCoinmarketcapというサイトのAPIで取得し、24時間の価値の変動割合のヒストグラムを作成する。   \n",
    "サービスが終わったら情報は取得できなくなるので、以下のcmc_uriのページが生きているか確認すること。"
   ]
  },
  {
   "cell_type": "code",
   "execution_count": 80,
   "metadata": {},
   "outputs": [
    {
     "data": {
      "text/html": [
       "<div>\n",
       "<style scoped>\n",
       "    .dataframe tbody tr th:only-of-type {\n",
       "        vertical-align: middle;\n",
       "    }\n",
       "\n",
       "    .dataframe tbody tr th {\n",
       "        vertical-align: top;\n",
       "    }\n",
       "\n",
       "    .dataframe thead th {\n",
       "        text-align: right;\n",
       "    }\n",
       "</style>\n",
       "<table border=\"1\" class=\"dataframe\">\n",
       "  <thead>\n",
       "    <tr style=\"text-align: right;\">\n",
       "      <th></th>\n",
       "      <th>name</th>\n",
       "      <th>percent_change_24h</th>\n",
       "    </tr>\n",
       "  </thead>\n",
       "  <tbody>\n",
       "    <tr>\n",
       "      <th>0</th>\n",
       "      <td>Bitcoin</td>\n",
       "      <td>-5.75</td>\n",
       "    </tr>\n",
       "    <tr>\n",
       "      <th>1</th>\n",
       "      <td>Ethereum</td>\n",
       "      <td>-4.77</td>\n",
       "    </tr>\n",
       "    <tr>\n",
       "      <th>2</th>\n",
       "      <td>Ripple</td>\n",
       "      <td>-4.80</td>\n",
       "    </tr>\n",
       "    <tr>\n",
       "      <th>3</th>\n",
       "      <td>Bitcoin Cash</td>\n",
       "      <td>-9.54</td>\n",
       "    </tr>\n",
       "    <tr>\n",
       "      <th>4</th>\n",
       "      <td>Cardano</td>\n",
       "      <td>-2.37</td>\n",
       "    </tr>\n",
       "  </tbody>\n",
       "</table>\n",
       "</div>"
      ],
      "text/plain": [
       "           name  percent_change_24h\n",
       "0       Bitcoin               -5.75\n",
       "1      Ethereum               -4.77\n",
       "2        Ripple               -4.80\n",
       "3  Bitcoin Cash               -9.54\n",
       "4       Cardano               -2.37"
      ]
     },
     "execution_count": 80,
     "metadata": {},
     "output_type": "execute_result"
    }
   ],
   "source": [
    "# pandasを使ってヒストグラムを作成する\n",
    "import pandas as pd\n",
    "import numpy as np\n",
    "\n",
    "# Coinmarcketcap API\n",
    "cmc_uri = 'https://api.coinmarketcap.com/v1/ticker/?convert=JPY&limit=0'\n",
    "\n",
    "# json形式で取得した情報をpandasでdataflameに変換する\n",
    "df = pd.read_json(cmc_uri)\n",
    "\n",
    "# 24時間の価格の変動割合の情報がない仮想通貨を削除する\n",
    "cmc = df.dropna(axis=0,subset=['percent_change_24h'])\n",
    "\n",
    "# percent_change_24h,nameの変数だけ抽出する\n",
    "dfext = df.loc[:,['name','percent_change_24h']]\n",
    "\n",
    "dfext.head(5)"
   ]
  },
  {
   "cell_type": "code",
   "execution_count": 96,
   "metadata": {},
   "outputs": [
    {
     "data": {
      "text/html": [
       "<div>\n",
       "<style scoped>\n",
       "    .dataframe tbody tr th:only-of-type {\n",
       "        vertical-align: middle;\n",
       "    }\n",
       "\n",
       "    .dataframe tbody tr th {\n",
       "        vertical-align: top;\n",
       "    }\n",
       "\n",
       "    .dataframe thead th {\n",
       "        text-align: right;\n",
       "    }\n",
       "</style>\n",
       "<table border=\"1\" class=\"dataframe\">\n",
       "  <thead>\n",
       "    <tr style=\"text-align: right;\">\n",
       "      <th></th>\n",
       "      <th>name</th>\n",
       "      <th>percent_change_24h</th>\n",
       "    </tr>\n",
       "  </thead>\n",
       "  <tbody>\n",
       "    <tr>\n",
       "      <th>1465</th>\n",
       "      <td>TeraCoin</td>\n",
       "      <td>781.38</td>\n",
       "    </tr>\n",
       "    <tr>\n",
       "      <th>89</th>\n",
       "      <td>E-coin</td>\n",
       "      <td>518.91</td>\n",
       "    </tr>\n",
       "    <tr>\n",
       "      <th>1417</th>\n",
       "      <td>Wink</td>\n",
       "      <td>152.66</td>\n",
       "    </tr>\n",
       "    <tr>\n",
       "      <th>1288</th>\n",
       "      <td>Matryx</td>\n",
       "      <td>95.78</td>\n",
       "    </tr>\n",
       "    <tr>\n",
       "      <th>544</th>\n",
       "      <td>Commodity Ad Network</td>\n",
       "      <td>86.90</td>\n",
       "    </tr>\n",
       "  </tbody>\n",
       "</table>\n",
       "</div>"
      ],
      "text/plain": [
       "                      name  percent_change_24h\n",
       "1465              TeraCoin              781.38\n",
       "89                  E-coin              518.91\n",
       "1417                  Wink              152.66\n",
       "1288                Matryx               95.78\n",
       "544   Commodity Ad Network               86.90"
      ]
     },
     "execution_count": 96,
     "metadata": {},
     "output_type": "execute_result"
    }
   ],
   "source": [
    "# ソートしてみる\n",
    "dfsort = dfext.sort_values(by=[\"percent_change_24h\"], ascending=False)\n",
    "dfsort.head(5)"
   ]
  },
  {
   "cell_type": "markdown",
   "metadata": {},
   "source": [
    "やっとこさ度数分布表を作るためのデータ抽出が完了したので度数分布表を作成する。\n",
    "\n",
    "度数分布表の作成手順：\n",
    "1. 階級の数、階級の間隔を決める  \n",
    "  sturges' ruleを用いて階級数を決める\n",
    "2. 分布表における初めの階級の最小値を決める\n",
    "3. 数えあげて度数を表にする"
   ]
  },
  {
   "cell_type": "code",
   "execution_count": 97,
   "metadata": {},
   "outputs": [
    {
     "data": {
      "image/png": "[encoded data removed]",
      "text/latex": [
       "$$\\frac{\\log{\\left (N \\right )}}{\\log{\\left (2 \\right )}} + 1$$"
      ],
      "text/plain": [
       "log(N)    \n",
       "────── + 1\n",
       "log(2)    "
      ]
     },
     "execution_count": 97,
     "metadata": {},
     "output_type": "execute_result"
    }
   ],
   "source": [
    "# 1. sturges' rule\n",
    "%matplotlib inline\n",
    "from sympy import *\n",
    "init_printing()\n",
    "\n",
    "x = Symbol('N')\n",
    "expr = log(x)/log(2) + 1\n",
    "expr"
   ]
  },
  {
   "cell_type": "markdown",
   "metadata": {},
   "source": [
    "上記数式のNはサンプル数を表し、階級数を決める。"
   ]
  },
  {
   "cell_type": "code",
   "execution_count": 132,
   "metadata": {},
   "outputs": [
    {
     "data": {
      "text/html": [
       "<div>\n",
       "<style scoped>\n",
       "    .dataframe tbody tr th:only-of-type {\n",
       "        vertical-align: middle;\n",
       "    }\n",
       "\n",
       "    .dataframe tbody tr th {\n",
       "        vertical-align: top;\n",
       "    }\n",
       "\n",
       "    .dataframe thead th {\n",
       "        text-align: right;\n",
       "    }\n",
       "</style>\n",
       "<table border=\"1\" class=\"dataframe\">\n",
       "  <thead>\n",
       "    <tr style=\"text-align: right;\">\n",
       "      <th></th>\n",
       "      <th>percent_change_24h</th>\n",
       "    </tr>\n",
       "  </thead>\n",
       "  <tbody>\n",
       "    <tr>\n",
       "      <th>count</th>\n",
       "      <td>1483.000000</td>\n",
       "    </tr>\n",
       "    <tr>\n",
       "      <th>mean</th>\n",
       "      <td>-6.445502</td>\n",
       "    </tr>\n",
       "    <tr>\n",
       "      <th>std</th>\n",
       "      <td>28.150487</td>\n",
       "    </tr>\n",
       "    <tr>\n",
       "      <th>min</th>\n",
       "      <td>-79.140000</td>\n",
       "    </tr>\n",
       "    <tr>\n",
       "      <th>25%</th>\n",
       "      <td>-13.370000</td>\n",
       "    </tr>\n",
       "    <tr>\n",
       "      <th>50%</th>\n",
       "      <td>-7.280000</td>\n",
       "    </tr>\n",
       "    <tr>\n",
       "      <th>75%</th>\n",
       "      <td>-2.950000</td>\n",
       "    </tr>\n",
       "    <tr>\n",
       "      <th>max</th>\n",
       "      <td>781.380000</td>\n",
       "    </tr>\n",
       "  </tbody>\n",
       "</table>\n",
       "</div>"
      ],
      "text/plain": [
       "       percent_change_24h\n",
       "count         1483.000000\n",
       "mean            -6.445502\n",
       "std             28.150487\n",
       "min            -79.140000\n",
       "25%            -13.370000\n",
       "50%             -7.280000\n",
       "75%             -2.950000\n",
       "max            781.380000"
      ]
     },
     "execution_count": 132,
     "metadata": {},
     "output_type": "execute_result"
    }
   ],
   "source": [
    "# 1, 2.統計量を導出する\n",
    "dfsort.describe()"
   ]
  },
  {
   "cell_type": "code",
   "execution_count": 136,
   "metadata": {},
   "outputs": [
    {
     "name": "stdout",
     "output_type": "stream",
     "text": [
      "11.5343028824546\n"
     ]
    }
   ],
   "source": [
    "# 1, countの値をシンボルNに代入して階級数を求める\n",
    "# HACK: const 1483 -> val\n",
    "print(expr.subs([(x, 1483)]).evalf())"
   ]
  },
  {
   "cell_type": "code",
   "execution_count": 168,
   "metadata": {},
   "outputs": [
    {
     "data": {
      "text/html": [
       "<div>\n",
       "<style scoped>\n",
       "    .dataframe tbody tr th:only-of-type {\n",
       "        vertical-align: middle;\n",
       "    }\n",
       "\n",
       "    .dataframe tbody tr th {\n",
       "        vertical-align: top;\n",
       "    }\n",
       "\n",
       "    .dataframe thead th {\n",
       "        text-align: right;\n",
       "    }\n",
       "</style>\n",
       "<table border=\"1\" class=\"dataframe\">\n",
       "  <thead>\n",
       "    <tr style=\"text-align: right;\">\n",
       "      <th></th>\n",
       "      <th>percent_change_24h</th>\n",
       "    </tr>\n",
       "  </thead>\n",
       "  <tbody>\n",
       "    <tr>\n",
       "      <th>(-100, -88]</th>\n",
       "      <td>NaN</td>\n",
       "    </tr>\n",
       "    <tr>\n",
       "      <th>(-88, -76]</th>\n",
       "      <td>1.0</td>\n",
       "    </tr>\n",
       "    <tr>\n",
       "      <th>(-76, -64]</th>\n",
       "      <td>1.0</td>\n",
       "    </tr>\n",
       "    <tr>\n",
       "      <th>(-64, -52]</th>\n",
       "      <td>3.0</td>\n",
       "    </tr>\n",
       "    <tr>\n",
       "      <th>(-52, -40]</th>\n",
       "      <td>13.0</td>\n",
       "    </tr>\n",
       "    <tr>\n",
       "      <th>(-40, -28]</th>\n",
       "      <td>44.0</td>\n",
       "    </tr>\n",
       "    <tr>\n",
       "      <th>(-28, -16]</th>\n",
       "      <td>193.0</td>\n",
       "    </tr>\n",
       "    <tr>\n",
       "      <th>(-16, -4]</th>\n",
       "      <td>810.0</td>\n",
       "    </tr>\n",
       "    <tr>\n",
       "      <th>(-4, 8]</th>\n",
       "      <td>305.0</td>\n",
       "    </tr>\n",
       "    <tr>\n",
       "      <th>(8, 20]</th>\n",
       "      <td>65.0</td>\n",
       "    </tr>\n",
       "    <tr>\n",
       "      <th>(20, 32]</th>\n",
       "      <td>25.0</td>\n",
       "    </tr>\n",
       "    <tr>\n",
       "      <th>(32, 44]</th>\n",
       "      <td>12.0</td>\n",
       "    </tr>\n",
       "    <tr>\n",
       "      <th>(44, 56]</th>\n",
       "      <td>4.0</td>\n",
       "    </tr>\n",
       "    <tr>\n",
       "      <th>(56, 68]</th>\n",
       "      <td>2.0</td>\n",
       "    </tr>\n",
       "    <tr>\n",
       "      <th>(68, 80]</th>\n",
       "      <td>NaN</td>\n",
       "    </tr>\n",
       "    <tr>\n",
       "      <th>(80, 92]</th>\n",
       "      <td>1.0</td>\n",
       "    </tr>\n",
       "  </tbody>\n",
       "</table>\n",
       "</div>"
      ],
      "text/plain": [
       "             percent_change_24h\n",
       "(-100, -88]                 NaN\n",
       "(-88, -76]                  1.0\n",
       "(-76, -64]                  1.0\n",
       "(-64, -52]                  3.0\n",
       "(-52, -40]                 13.0\n",
       "(-40, -28]                 44.0\n",
       "(-28, -16]                193.0\n",
       "(-16, -4]                 810.0\n",
       "(-4, 8]                   305.0\n",
       "(8, 20]                    65.0\n",
       "(20, 32]                   25.0\n",
       "(32, 44]                   12.0\n",
       "(44, 56]                    4.0\n",
       "(56, 68]                    2.0\n",
       "(68, 80]                    NaN\n",
       "(80, 92]                    1.0"
      ]
     },
     "execution_count": 168,
     "metadata": {},
     "output_type": "execute_result"
    }
   ],
   "source": [
    "# 階級数=12とする。最小値を-100,最大値を100とする。\n",
    "# 100%以上の通貨は3つしかないので外れ値として除外して表示させる。\n",
    "# 3.\n",
    "frq = dfsort.groupby('percent_change_24h')['name'].count().apply(lambda x: pd.Series([x], index=['percent_change_24h']))\n",
    "# HACK: const -100,100,12 -> val\n",
    "c = pd.cut(frq.index, np.arange(-100, 100, 12))\n",
    "classfied_frequency = frq.groupby(c).sum()\n",
    "\n",
    "classfied_frequency.head(20)"
   ]
  },
  {
   "cell_type": "markdown",
   "metadata": {},
   "source": [
    "あまり綺麗な度数分布表にはなっていないが一応完成!  \n",
    "階級数と間隔をどのようにするかで見え方が変わることに注意する。"
   ]
  },
  {
   "cell_type": "code",
   "execution_count": 171,
   "metadata": {},
   "outputs": [
    {
     "data": {
      "text/plain": [
       "<matplotlib.axes._subplots.AxesSubplot at 0x7fd3c20644e0>"
      ]
     },
     "execution_count": 171,
     "metadata": {},
     "output_type": "execute_result"
    },
    {
     "data": {
      "image/png": "[encoded data removed]",
      "text/plain": [
       "<matplotlib.figure.Figure at 0x7fd3c20cdac8>"
      ]
     },
     "metadata": {},
     "output_type": "display_data"
    }
   ],
   "source": [
    "# ヒストグラム作成\n",
    "import matplotlib.pyplot as plt\n",
    "import matplotlib as mpl\n",
    "font = {\"family\":\"DejaVu Sans\"}\n",
    "mpl.rc('font', **font)\n",
    "\n",
    "classfied_frequency.plot(kind='bar')"
   ]
  },
  {
   "cell_type": "code",
   "execution_count": 179,
   "metadata": {},
   "outputs": [
    {
     "data": {
      "text/plain": [
       "<matplotlib.axes._subplots.AxesSubplot at 0x7fd3c1682c18>"
      ]
     },
     "execution_count": 179,
     "metadata": {},
     "output_type": "execute_result"
    },
    {
     "data": {
      "image/png": "[encoded data removed]",
      "text/plain": [
       "<matplotlib.figure.Figure at 0x7fd3c16a6198>"
      ]
     },
     "metadata": {},
     "output_type": "display_data"
    }
   ],
   "source": [
    "# 別のヒストグラム作成方法\n",
    "dfsort.plot(kind='hist', alpha=0.8, bins=100, figsize=(12,4))"
   ]
  },
  {
   "cell_type": "markdown",
   "metadata": {},
   "source": [
    "----"
   ]
  },
  {
   "cell_type": "markdown",
   "metadata": {},
   "source": [
    "#### ch1_1-6 累積度数グラフ\n",
    "\n",
    "hoge"
   ]
  },
  {
   "cell_type": "code",
   "execution_count": null,
   "metadata": {},
   "outputs": [],
   "source": []
  },
  {
   "cell_type": "markdown",
   "metadata": {},
   "source": [
    "### 参考\n",
    "\n",
    "参考1: 日本統計学会 編. 改訂版 日本統計学会公式認定 統計検定2級対応 統計学基礎. 東京図書, 2015, 272p  \n",
    "参考2: 日本統計学会.\"統計検定2級出題範囲表\".http://www.toukei-kentei.jp/wp-content/uploads/grade2_hani_170727.pdf 、(参照2018-02-05).\n"
   ]
  },
  {
   "cell_type": "markdown",
   "metadata": {},
   "source": [
    "*Revision:001 2018/02/05 init*"
   ]
  }
 ],
 "metadata": {
  "kernelspec": {
   "display_name": "Python 3",
   "language": "python",
   "name": "python3"
  },
  "language_info": {
   "codemirror_mode": {
    "name": "ipython",
    "version": 3
   },
   "file_extension": ".py",
   "mimetype": "text/x-python",
   "name": "python",
   "nbconvert_exporter": "python",
   "pygments_lexer": "ipython3",
   "version": "3.6.3"
  }
 },
 "nbformat": 4,
 "nbformat_minor": 2
}
