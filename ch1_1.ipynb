{
 "cells": [
  {
   "cell_type": "markdown",
   "metadata": {},
   "source": [
    "#### 統計検定2級 学習資料\n",
    "\n",
    "公式サイトの出題範囲表の用語と関連事項をまとめる。"
   ]
  },
  {
   "cell_type": "markdown",
   "metadata": {},
   "source": [
    "----\n",
    "\n",
    "## 1. データの分布"
   ]
  },
  {
   "cell_type": "markdown",
   "metadata": {},
   "source": [
    "\n",
    "### 1.1. データの分布の記述\n",
    "\n",
    "ねらい：集められたデータから，基本的な情報を抽出する方法を理解する。"
   ]
  },
  {
   "cell_type": "markdown",
   "metadata": {},
   "source": [
    "----\n",
    "\n",
    "#### 項目（学習しておくべき用語）\n",
    "\n",
    "|番号|項目|alias|\n",
    "|:---:|:---:|:---:|\n",
    "|ch1_1-1|質的変数|qualitative variable, (カテゴリカル)|\n",
    "|ch1_1-2|量的変数|quantitative variable|\n",
    "|ch1_1-3|幹葉図(みきはず)|stem-and-leaf display|\n",
    "|ch1_1-4|度数分布表|frequency distribution table|\n",
    "|ch1_1-5|ヒストグラム|-|\n",
    "|ch1_1-6|累積度数グラフ|cumulative frequency graph|\n",
    "|ch1_1-7|分布の形状|-|\n"
   ]
  },
  {
   "cell_type": "markdown",
   "metadata": {},
   "source": [
    "----\n",
    "\n",
    "#### ch1_1-1 質的変数\n",
    "#### ch1_1-2 量的変数\n",
    "\n",
    "統計学のコンテキストでいう変数の意味は、調査される項目のこと。  \n",
    "データベースのコンテキストでいうと列や属性にあたる。  \n",
    "\n",
    "質的変数=カテゴリで表す。クラス（まとまり）分けすることが目的で数字だとしても値の大小に意味はない。  \n",
    "量的変数=数量（観測値）で表される。数字の大小に意味があり、連続量や時系列データとして扱う。 \n",
    "\n",
    "\n",
    "|クラス|学生番号|名前|成績ランク|総合点|\n",
    "|:---|:---|:---|:---|:---|\n",
    "|1|X000001|山田太郎|S|498|\n",
    "|2|X000002|田中次郎|D|150|\n",
    "\n",
    "\n",
    "上記の例だと、  \n",
    "  変数: [クラス、学生番号、名前、成績ランク、総合点],  \n",
    "  量的変数: [総合点],  \n",
    "  質的変数: [クラス、学生番号、名前、成績ランク]\n",
    "  \n",
    "----"
   ]
  },
  {
   "cell_type": "markdown",
   "metadata": {},
   "source": [
    "#### ch1_1-3 幹葉図\n",
    "\n",
    "例：10人クラスで英語の点数が、[10,11,21,22,22,23,27,30,36,40]だったとする。\n",
    "\n",
    "点数の幹葉図は以下のようになる。\n",
    "\n",
    "```bash\n",
    "1 | 01      # 10,11             #10の位を左側に書き、1の位を右側に書く\n",
    "2 | 12237   # 21,22,22,23,27 => # 2{1,2,2,3,7} => 2 | 12237\n",
    "3 | 06      # 30,36\n",
    "4 | 0       # 40\n",
    "```\n",
    "\n",
    "例では10の位で分けたが、桁数が多い場合の分け方は出題ごとに変わる。\n",
    "中央値は5番目と6番目の値を2で割れば導出できる。 (22+23)/2 = 22.5"
   ]
  },
  {
   "cell_type": "code",
   "execution_count": 38,
   "metadata": {},
   "outputs": [
    {
     "data": {
      "image/png": "[encoded data removed]",
      "text/latex": [
       "$$\\left(x + y\\right)^{5}$$"
      ],
      "text/plain": [
       "       5\n",
       "(x + y) "
      ]
     },
     "execution_count": 38,
     "metadata": {},
     "output_type": "execute_result"
    }
   ],
   "source": [
    "# test\n",
    "\n",
    "%matplotlib inline\n",
    "from sympy import *\n",
    "# to print with mathjax on jupyter notebook\n",
    "init_printing()\n",
    "\n",
    "x = Symbol('x')\n",
    "y = Symbol('y')\n",
    "expr = (x + y)**5\n",
    "expr"
   ]
  },
  {
   "cell_type": "code",
   "execution_count": 40,
   "metadata": {},
   "outputs": [
    {
     "name": "stdout",
     "output_type": "stream",
     "text": [
      "22.5\n"
     ]
    }
   ],
   "source": [
    "# 幹葉図 中央値導出の確認 python\n",
    "\n",
    "import math\n",
    "\n",
    "# print median\n",
    "data = [10,11,21,22,22,23,27,30,36,40]\n",
    "data_len = len(data)\n",
    "data_sorted = sorted(data)\n",
    "half = math.floor(data_len/2)\n",
    "median = (data_sorted[half-1]+data_sorted[half])/2\n",
    "\n",
    "print(median)"
   ]
  },
  {
   "cell_type": "markdown",
   "metadata": {},
   "source": [
    "#### ch1_1-4 度数分布表\n",
    "#### ch1_1-5 ヒストグラム\n",
    "\n"
   ]
  },
  {
   "cell_type": "markdown",
   "metadata": {},
   "source": [
    "### 参考\n",
    "\n",
    "参考1: 日本統計学会 編. 改訂版 日本統計学会公式認定 統計検定2級対応 統計学基礎. 東京図書, 2015, 272p  \n",
    "参考2: 日本統計学会.\"統計検定2級出題範囲表\".http://www.toukei-kentei.jp/wp-content/uploads/grade2_hani_170727.pdf 、(参照2018-02-05).\n"
   ]
  },
  {
   "cell_type": "markdown",
   "metadata": {},
   "source": [
    "*Revision:001 2018/02/05 init*"
   ]
  }
 ],
 "metadata": {
  "kernelspec": {
   "display_name": "Python 3",
   "language": "python",
   "name": "python3"
  },
  "language_info": {
   "codemirror_mode": {
    "name": "ipython",
    "version": 3
   },
   "file_extension": ".py",
   "mimetype": "text/x-python",
   "name": "python",
   "nbconvert_exporter": "python",
   "pygments_lexer": "ipython3",
   "version": "3.6.3"
  }
 },
 "nbformat": 4,
 "nbformat_minor": 2
}
