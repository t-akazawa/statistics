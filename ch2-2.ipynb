{
 "cells": [
  {
   "cell_type": "markdown",
   "metadata": {},
   "source": [
    "#### 統計検定2級 学習資料\n",
    "\n",
    "公式サイトの出題範囲表の用語と関連事項をまとめる。"
   ]
  },
  {
   "cell_type": "markdown",
   "metadata": {},
   "source": [
    "----\n",
    "\n",
    "## 2. 1変数データ"
   ]
  },
  {
   "cell_type": "markdown",
   "metadata": {},
   "source": [
    "\n",
    "### 2.2. 散らばりなどの指標\n",
    "\n",
    "ねらい：分布の散らばりの大きさなどを評価する方法を理解する。"
   ]
  },
  {
   "cell_type": "markdown",
   "metadata": {},
   "source": [
    "----\n",
    "\n",
    "#### 項目（学習しておくべき用語）\n",
    "\n",
    "|番号|項目|alias|\n",
    "|:---:|:---:|:---:|\n",
    "|ch2_2-1|分散|variance|\n",
    "|ch2_2-2|標準偏差|standard deviation (SD)|\n",
    "|ch2_2-3|範囲、四分位範囲|interquartile range (IQR)|\n",
    "|ch2_2-4|箱ひげ図|box plot|\n",
    "|ch2_2-5|ローレンツ曲線|Lorenz curve|\n",
    "|ch2_2-6|ジニ係数|Gini coefficient|\n",
    "|ch2_2-7|カイ二乗値|chi-square value|\n",
    "|ch2_2-8|歪度（ワイド）|skewness|\n",
    "|ch2_2-9|尖度（センド）|kurtosis|\n"
   ]
  },
  {
   "cell_type": "markdown",
   "metadata": {},
   "source": [
    "----\n",
    "\n",
    "#### ch2_2-1 分散\n",
    "＊不偏分散は別章で説明。\n",
    "各観測値の平均値からの偏差を二乗して平均したもの。\n",
    "\n",
    "データの散らばり具合を表す指標。\n",
    "\n",
    "----"
   ]
  },
  {
   "cell_type": "markdown",
   "metadata": {},
   "source": [
    "マークダウンモードでLatexの数式を書いてみる。書き方はググれば出くるが以下を参考にした。  \n",
    "http://48n.jp/blog/2016/07/12/sample-of-formula/  \n",
    "\n",
    "数式は全て参考1のまま記載。"
   ]
  },
  {
   "cell_type": "markdown",
   "metadata": {},
   "source": [
    "分散の式(1.3.2)： (MACでバックスラッシュはoption+¥)  \n",
    "  数式の番号は参考1の番号。"
   ]
  },
  {
   "cell_type": "markdown",
   "metadata": {},
   "source": [
    "$$\n",
    "\\begin{align}\n",
    "s^2 = \\frac{1}{n} \\sum _{i=1} ^{n} {(x_i - \\bar{x})^2}\n",
    "\\end{align}\n",
    "$$"
   ]
  },
  {
   "cell_type": "markdown",
   "metadata": {},
   "source": [
    "$$\n",
    "\\begin{align}\n",
    "s^2, x_i, \\bar{x}\n",
    "\\end{align}\n",
    "$$"
   ]
  },
  {
   "cell_type": "markdown",
   "metadata": {},
   "source": [
    "はそれぞれ分散、各観測値、平均値を表す"
   ]
  },
  {
   "cell_type": "markdown",
   "metadata": {},
   "source": [
    "```\n",
    "$$\n",
    "\\begin{align}\n",
    "s^2 = \\frac{1}{n} \\sum _{i=1} ^{n} {(x_i - \\bar{x})^2}\n",
    "\\end{align}\n",
    "$$\n",
    "```"
   ]
  },
  {
   "cell_type": "code",
   "execution_count": 1,
   "metadata": {},
   "outputs": [],
   "source": [
    "# importする\n",
    "import pandas as pd\n",
    "import numpy as np\n",
    "import matplotlib.pyplot as plt\n",
    "import math\n",
    "\n",
    "# 以下のインライン展開のコードを走らせないとmatplotlibのグラフ表示ができない場合がある\n",
    "%matplotlib inline\n",
    "\n",
    "np.random.seed(100)"
   ]
  },
  {
   "cell_type": "code",
   "execution_count": 2,
   "metadata": {},
   "outputs": [
    {
     "data": {
      "text/html": [
       "<div>\n",
       "<style scoped>\n",
       "    .dataframe tbody tr th:only-of-type {\n",
       "        vertical-align: middle;\n",
       "    }\n",
       "\n",
       "    .dataframe tbody tr th {\n",
       "        vertical-align: top;\n",
       "    }\n",
       "\n",
       "    .dataframe thead th {\n",
       "        text-align: right;\n",
       "    }\n",
       "</style>\n",
       "<table border=\"1\" class=\"dataframe\">\n",
       "  <thead>\n",
       "    <tr style=\"text-align: right;\">\n",
       "      <th></th>\n",
       "      <th>0</th>\n",
       "    </tr>\n",
       "  </thead>\n",
       "  <tbody>\n",
       "    <tr>\n",
       "      <th>0</th>\n",
       "      <td>-1.749765</td>\n",
       "    </tr>\n",
       "    <tr>\n",
       "      <th>1</th>\n",
       "      <td>0.342680</td>\n",
       "    </tr>\n",
       "    <tr>\n",
       "      <th>2</th>\n",
       "      <td>1.153036</td>\n",
       "    </tr>\n",
       "    <tr>\n",
       "      <th>3</th>\n",
       "      <td>-0.252436</td>\n",
       "    </tr>\n",
       "    <tr>\n",
       "      <th>4</th>\n",
       "      <td>0.981321</td>\n",
       "    </tr>\n",
       "  </tbody>\n",
       "</table>\n",
       "</div>"
      ],
      "text/plain": [
       "          0\n",
       "0 -1.749765\n",
       "1  0.342680\n",
       "2  1.153036\n",
       "3 -0.252436\n",
       "4  0.981321"
      ]
     },
     "execution_count": 2,
     "metadata": {},
     "output_type": "execute_result"
    }
   ],
   "source": [
    "# 正規分布するデータを50000個作成する\n",
    "df = pd.DataFrame(np.random.randn(50000))\n",
    "df.head(5)"
   ]
  },
  {
   "cell_type": "code",
   "execution_count": 3,
   "metadata": {},
   "outputs": [
    {
     "data": {
      "text/plain": [
       "<matplotlib.axes._subplots.AxesSubplot at 0x7fed00c955c0>"
      ]
     },
     "execution_count": 3,
     "metadata": {},
     "output_type": "execute_result"
    },
    {
     "data": {
      "image/png": "[encoded data removed]",
      "text/plain": [
       "<matplotlib.figure.Figure at 0x7fed014a5048>"
      ]
     },
     "metadata": {},
     "output_type": "display_data"
    }
   ],
   "source": [
    "df.plot(kind='hist',bins=100)"
   ]
  },
  {
   "cell_type": "code",
   "execution_count": 4,
   "metadata": {},
   "outputs": [
    {
     "data": {
      "text/plain": [
       "0    0.998978\n",
       "dtype: float64"
      ]
     },
     "execution_count": 4,
     "metadata": {},
     "output_type": "execute_result"
    }
   ],
   "source": [
    "# 分散\n",
    "df.var()"
   ]
  },
  {
   "cell_type": "markdown",
   "metadata": {},
   "source": [
    "別章で説明するが、標準正規分布は分散が1であるので、  \n",
    "作成した正規分布のデータフレームの分散が0.998978と1に近い値になっている。"
   ]
  },
  {
   "cell_type": "markdown",
   "metadata": {},
   "source": [
    "----\n",
    "\n",
    "#### ch2_2-2 標準偏差\n",
    "\n",
    "分散の正の平方根。\n",
    "\n",
    "データの散らばり具合を表す指標。  \n",
    "分散とは異なり観測値と単位が同じになる。\n",
    "\n",
    "----"
   ]
  },
  {
   "cell_type": "markdown",
   "metadata": {},
   "source": [
    "標準偏差の式(1.3.3):"
   ]
  },
  {
   "cell_type": "markdown",
   "metadata": {},
   "source": [
    "$$\n",
    "\\begin{align}\n",
    "s = \\sqrt {s^2}\n",
    "\\end{align}\n",
    "$$"
   ]
  },
  {
   "cell_type": "code",
   "execution_count": 5,
   "metadata": {},
   "outputs": [
    {
     "data": {
      "text/plain": [
       "0    0.999489\n",
       "dtype: float64"
      ]
     },
     "execution_count": 5,
     "metadata": {},
     "output_type": "execute_result"
    }
   ],
   "source": [
    "# 標準偏差\n",
    "df.std()"
   ]
  },
  {
   "cell_type": "code",
   "execution_count": 6,
   "metadata": {},
   "outputs": [],
   "source": [
    "df = pd.DataFrame(np.random.randint(0,101,50000))"
   ]
  },
  {
   "cell_type": "code",
   "execution_count": 7,
   "metadata": {},
   "outputs": [
    {
     "data": {
      "text/plain": [
       "<matplotlib.axes._subplots.AxesSubplot at 0x7fecfeb3ac18>"
      ]
     },
     "execution_count": 7,
     "metadata": {},
     "output_type": "execute_result"
    },
    {
     "data": {
      "image/png": "[encoded data removed]",
      "text/plain": [
       "<matplotlib.figure.Figure at 0x7fecfec3c390>"
      ]
     },
     "metadata": {},
     "output_type": "display_data"
    }
   ],
   "source": [
    "df.plot(kind='hist')"
   ]
  },
  {
   "cell_type": "code",
   "execution_count": 8,
   "metadata": {},
   "outputs": [
    {
     "data": {
      "text/plain": [
       "0    29.144637\n",
       "dtype: float64"
      ]
     },
     "execution_count": 8,
     "metadata": {},
     "output_type": "execute_result"
    }
   ],
   "source": [
    "# 標準偏差\n",
    "df.std()"
   ]
  },
  {
   "cell_type": "markdown",
   "metadata": {},
   "source": [
    "完全にランダムなデータでは標準偏差が約29、正規分布では約1となっており、  \n",
    "散らばりが大きいほど、標準偏差も大きくなる。"
   ]
  },
  {
   "cell_type": "markdown",
   "metadata": {},
   "source": [
    "----\n",
    "\n",
    "#### ch2_2-3 範囲、四分位範囲\n",
    "\n",
    "範囲とは、観測値の最大値から最小値を引いた値。  \n",
    "散らばりの指標の一つ。\n",
    "\n",
    "観測値を小さい順に並べて25%,50%(中央値),75%部分に位置する観測値を、  \n",
    "それぞれ第1四分位数、第2四分位数、第3四分位数という。  \n",
    "\n",
    "四分位範囲（IQR）とは、第3四分位数から第1四分位数を引いた値である。  \n",
    "\n",
    "最小値、第1四分位数(Q1)、第2四分位数(Q2)、第3四分位数(Q3)、最大値をまとめて5数要約(5-number summary)という。\n",
    "\n",
    "----"
   ]
  },
  {
   "cell_type": "code",
   "execution_count": 9,
   "metadata": {},
   "outputs": [],
   "source": [
    "df = pd.DataFrame(np.random.randn(50000))"
   ]
  },
  {
   "cell_type": "code",
   "execution_count": 10,
   "metadata": {},
   "outputs": [
    {
     "data": {
      "text/html": [
       "<div>\n",
       "<style scoped>\n",
       "    .dataframe tbody tr th:only-of-type {\n",
       "        vertical-align: middle;\n",
       "    }\n",
       "\n",
       "    .dataframe tbody tr th {\n",
       "        vertical-align: top;\n",
       "    }\n",
       "\n",
       "    .dataframe thead th {\n",
       "        text-align: right;\n",
       "    }\n",
       "</style>\n",
       "<table border=\"1\" class=\"dataframe\">\n",
       "  <thead>\n",
       "    <tr style=\"text-align: right;\">\n",
       "      <th></th>\n",
       "      <th>0</th>\n",
       "    </tr>\n",
       "  </thead>\n",
       "  <tbody>\n",
       "    <tr>\n",
       "      <th>count</th>\n",
       "      <td>50000.000000</td>\n",
       "    </tr>\n",
       "    <tr>\n",
       "      <th>mean</th>\n",
       "      <td>-0.004245</td>\n",
       "    </tr>\n",
       "    <tr>\n",
       "      <th>std</th>\n",
       "      <td>1.004598</td>\n",
       "    </tr>\n",
       "    <tr>\n",
       "      <th>min</th>\n",
       "      <td>-4.176493</td>\n",
       "    </tr>\n",
       "    <tr>\n",
       "      <th>25%</th>\n",
       "      <td>-0.682181</td>\n",
       "    </tr>\n",
       "    <tr>\n",
       "      <th>50%</th>\n",
       "      <td>-0.005170</td>\n",
       "    </tr>\n",
       "    <tr>\n",
       "      <th>75%</th>\n",
       "      <td>0.668154</td>\n",
       "    </tr>\n",
       "    <tr>\n",
       "      <th>max</th>\n",
       "      <td>4.584108</td>\n",
       "    </tr>\n",
       "  </tbody>\n",
       "</table>\n",
       "</div>"
      ],
      "text/plain": [
       "                  0\n",
       "count  50000.000000\n",
       "mean      -0.004245\n",
       "std        1.004598\n",
       "min       -4.176493\n",
       "25%       -0.682181\n",
       "50%       -0.005170\n",
       "75%        0.668154\n",
       "max        4.584108"
      ]
     },
     "execution_count": 10,
     "metadata": {},
     "output_type": "execute_result"
    }
   ],
   "source": [
    "# 5数要約の情報をみる\n",
    "df.describe()"
   ]
  },
  {
   "cell_type": "markdown",
   "metadata": {},
   "source": [
    "----\n",
    "\n",
    "#### ch2_2-4 箱ひげ図\n",
    "\n",
    "5数要約を視覚的に利用してデータを表現したもの。\n",
    "\n",
    "----"
   ]
  },
  {
   "cell_type": "code",
   "execution_count": 11,
   "metadata": {},
   "outputs": [
    {
     "data": {
      "image/png": "[encoded data removed]",
      "text/plain": [
       "<matplotlib.figure.Figure at 0x7fecfe8f95f8>"
      ]
     },
     "metadata": {},
     "output_type": "display_data"
    }
   ],
   "source": [
    "# 箱ひげ図を書く 今回はpandasのplotではなく、matplotlibの書き方。\n",
    "\n",
    "bp = df.plot.box()\n",
    "\n",
    "plt.grid()\n",
    "plt.ylim([-5,5])\n",
    "plt.show()\n",
    "\n",
    "# 図の真ん中の緑の線がQ2、箱の上下がそれぞれQ3,Q1、\n",
    "# +2付近の線はQ3+1.5*IQR以下の最大の観測値, -2付近の線はQ1-1.5*IQR以上の最小の観測値を表す\n",
    "# 上記の±2付近の線の範囲を超える観測値は外れ値として見なして○で表す。"
   ]
  },
  {
   "cell_type": "code",
   "execution_count": 12,
   "metadata": {},
   "outputs": [
    {
     "data": {
      "text/plain": [
       "<matplotlib.axes._subplots.AxesSubplot at 0x7fecfe88e390>"
      ]
     },
     "execution_count": 12,
     "metadata": {},
     "output_type": "execute_result"
    },
    {
     "data": {
      "image/png": "[encoded data removed]",
      "text/plain": [
       "<matplotlib.figure.Figure at 0x7fecfe7f1d68>"
      ]
     },
     "metadata": {},
     "output_type": "display_data"
    }
   ],
   "source": [
    "# pandas plotの練習をしておく\n",
    "# y軸のメモリを指定\n",
    "df.plot(kind='box',yticks=[-5,-2,0,2,5])"
   ]
  },
  {
   "cell_type": "code",
   "execution_count": 13,
   "metadata": {},
   "outputs": [
    {
     "data": {
      "text/plain": [
       "<matplotlib.axes._subplots.AxesSubplot at 0x7fecfe7af400>"
      ]
     },
     "execution_count": 13,
     "metadata": {},
     "output_type": "execute_result"
    },
    {
     "data": {
      "image/png": "[encoded data removed]",
      "text/plain": [
       "<matplotlib.figure.Figure at 0x7fecfe7c30f0>"
      ]
     },
     "metadata": {},
     "output_type": "display_data"
    }
   ],
   "source": [
    "# y軸の範囲指定, gridをつける, タイトルをつける\n",
    "df.plot(kind='box',ylim=[-5,5],grid=True, title=\"Box Plot\")"
   ]
  },
  {
   "cell_type": "markdown",
   "metadata": {},
   "source": [
    "----\n",
    "\n",
    "#### ch2_2-5 ローレンツ曲線\n",
    "#### ch2_2-6 ジニ係数\n",
    "\n",
    "ローレンツ曲線は、所得などの経済的な量の集中度あるいは格差を表すためのグラフ。\n",
    "経済や経営系の分野で利用されることが多い。\n",
    "\n",
    "ジニ係数は、所得などの経済的な量の集中度あるいは格差を数値として示した値。\n",
    "\n",
    "----"
   ]
  },
  {
   "cell_type": "markdown",
   "metadata": {},
   "source": [
    "ある3社の従業員の給与に対してローレンツ曲線とジニ係数を導出する。"
   ]
  },
  {
   "cell_type": "code",
   "execution_count": 34,
   "metadata": {},
   "outputs": [],
   "source": [
    "# rowdata 単位は万円とする。\n",
    "# 完全平等なA社\n",
    "A_company = [300,300,300,300,300,300,300,300,300,300,300,300,300,300]\n",
    "# 多少差があるB社\n",
    "B_company = [200,300,200,200,300,400,400,800,300,400,300,200,200,200,200,300,300,300,400,200]\n",
    "# 超実力主義なC社\n",
    "C_company = [200,1500,800,500,400,200,200,600,700,800,900,300,200,200,200,300]"
   ]
  },
  {
   "cell_type": "code",
   "execution_count": 35,
   "metadata": {},
   "outputs": [
    {
     "data": {
      "text/html": [
       "<div>\n",
       "<style scoped>\n",
       "    .dataframe tbody tr th:only-of-type {\n",
       "        vertical-align: middle;\n",
       "    }\n",
       "\n",
       "    .dataframe tbody tr th {\n",
       "        vertical-align: top;\n",
       "    }\n",
       "\n",
       "    .dataframe thead th {\n",
       "        text-align: right;\n",
       "    }\n",
       "</style>\n",
       "<table border=\"1\" class=\"dataframe\">\n",
       "  <thead>\n",
       "    <tr style=\"text-align: right;\">\n",
       "      <th></th>\n",
       "      <th>給与</th>\n",
       "    </tr>\n",
       "  </thead>\n",
       "  <tbody>\n",
       "    <tr>\n",
       "      <th>0</th>\n",
       "      <td>200</td>\n",
       "    </tr>\n",
       "    <tr>\n",
       "      <th>1</th>\n",
       "      <td>1500</td>\n",
       "    </tr>\n",
       "    <tr>\n",
       "      <th>2</th>\n",
       "      <td>800</td>\n",
       "    </tr>\n",
       "    <tr>\n",
       "      <th>3</th>\n",
       "      <td>500</td>\n",
       "    </tr>\n",
       "    <tr>\n",
       "      <th>4</th>\n",
       "      <td>400</td>\n",
       "    </tr>\n",
       "  </tbody>\n",
       "</table>\n",
       "</div>"
      ],
      "text/plain": [
       "     給与\n",
       "0   200\n",
       "1  1500\n",
       "2   800\n",
       "3   500\n",
       "4   400"
      ]
     },
     "execution_count": 35,
     "metadata": {},
     "output_type": "execute_result"
    }
   ],
   "source": [
    "# データフレーム作成\n",
    "dfA = pd.DataFrame(A_company)\n",
    "dfB = pd.DataFrame(B_company)\n",
    "dfC = pd.DataFrame(C_company)\n",
    "dfA.columns = ['給与']\n",
    "dfB.columns = ['給与']\n",
    "dfC.columns = ['給与']\n",
    "\n",
    "dfC.head(5)"
   ]
  },
  {
   "cell_type": "code",
   "execution_count": 36,
   "metadata": {},
   "outputs": [
    {
     "data": {
      "text/html": [
       "<div>\n",
       "<style scoped>\n",
       "    .dataframe tbody tr th:only-of-type {\n",
       "        vertical-align: middle;\n",
       "    }\n",
       "\n",
       "    .dataframe tbody tr th {\n",
       "        vertical-align: top;\n",
       "    }\n",
       "\n",
       "    .dataframe thead th {\n",
       "        text-align: right;\n",
       "    }\n",
       "</style>\n",
       "<table border=\"1\" class=\"dataframe\">\n",
       "  <thead>\n",
       "    <tr style=\"text-align: right;\">\n",
       "      <th></th>\n",
       "      <th>給与</th>\n",
       "    </tr>\n",
       "  </thead>\n",
       "  <tbody>\n",
       "    <tr>\n",
       "      <th>0</th>\n",
       "      <td>200</td>\n",
       "    </tr>\n",
       "    <tr>\n",
       "      <th>5</th>\n",
       "      <td>200</td>\n",
       "    </tr>\n",
       "    <tr>\n",
       "      <th>6</th>\n",
       "      <td>200</td>\n",
       "    </tr>\n",
       "    <tr>\n",
       "      <th>12</th>\n",
       "      <td>200</td>\n",
       "    </tr>\n",
       "    <tr>\n",
       "      <th>13</th>\n",
       "      <td>200</td>\n",
       "    </tr>\n",
       "  </tbody>\n",
       "</table>\n",
       "</div>"
      ],
      "text/plain": [
       "     給与\n",
       "0   200\n",
       "5   200\n",
       "6   200\n",
       "12  200\n",
       "13  200"
      ]
     },
     "execution_count": 36,
     "metadata": {},
     "output_type": "execute_result"
    }
   ],
   "source": [
    "# 1.所得が低い順に並べ換える\n",
    "dfA = dfA.sort_values(by='給与')\n",
    "dfB = dfB.sort_values(by='給与')\n",
    "dfC = dfC.sort_values(by='給与')\n",
    "\n",
    "dfC.head(5)"
   ]
  },
  {
   "cell_type": "code",
   "execution_count": 61,
   "metadata": {},
   "outputs": [
    {
     "data": {
      "text/html": [
       "<div>\n",
       "<style scoped>\n",
       "    .dataframe tbody tr th:only-of-type {\n",
       "        vertical-align: middle;\n",
       "    }\n",
       "\n",
       "    .dataframe tbody tr th {\n",
       "        vertical-align: top;\n",
       "    }\n",
       "\n",
       "    .dataframe thead th {\n",
       "        text-align: right;\n",
       "    }\n",
       "</style>\n",
       "<table border=\"1\" class=\"dataframe\">\n",
       "  <thead>\n",
       "    <tr style=\"text-align: right;\">\n",
       "      <th></th>\n",
       "      <th>count</th>\n",
       "      <th>sum</th>\n",
       "    </tr>\n",
       "  </thead>\n",
       "  <tbody>\n",
       "    <tr>\n",
       "      <th>(0, 100]</th>\n",
       "      <td>0.0</td>\n",
       "      <td>0.0</td>\n",
       "    </tr>\n",
       "    <tr>\n",
       "      <th>(100, 200]</th>\n",
       "      <td>6.0</td>\n",
       "      <td>1200.0</td>\n",
       "    </tr>\n",
       "    <tr>\n",
       "      <th>(200, 300]</th>\n",
       "      <td>2.0</td>\n",
       "      <td>600.0</td>\n",
       "    </tr>\n",
       "    <tr>\n",
       "      <th>(300, 400]</th>\n",
       "      <td>1.0</td>\n",
       "      <td>400.0</td>\n",
       "    </tr>\n",
       "    <tr>\n",
       "      <th>(400, 500]</th>\n",
       "      <td>1.0</td>\n",
       "      <td>500.0</td>\n",
       "    </tr>\n",
       "    <tr>\n",
       "      <th>(500, 600]</th>\n",
       "      <td>1.0</td>\n",
       "      <td>600.0</td>\n",
       "    </tr>\n",
       "    <tr>\n",
       "      <th>(600, 700]</th>\n",
       "      <td>1.0</td>\n",
       "      <td>700.0</td>\n",
       "    </tr>\n",
       "    <tr>\n",
       "      <th>(700, 800]</th>\n",
       "      <td>2.0</td>\n",
       "      <td>1600.0</td>\n",
       "    </tr>\n",
       "    <tr>\n",
       "      <th>(800, 900]</th>\n",
       "      <td>1.0</td>\n",
       "      <td>900.0</td>\n",
       "    </tr>\n",
       "  </tbody>\n",
       "</table>\n",
       "</div>"
      ],
      "text/plain": [
       "            count     sum\n",
       "(0, 100]      0.0     0.0\n",
       "(100, 200]    6.0  1200.0\n",
       "(200, 300]    2.0   600.0\n",
       "(300, 400]    1.0   400.0\n",
       "(400, 500]    1.0   500.0\n",
       "(500, 600]    1.0   600.0\n",
       "(600, 700]    1.0   700.0\n",
       "(700, 800]    2.0  1600.0\n",
       "(800, 900]    1.0   900.0"
      ]
     },
     "execution_count": 61,
     "metadata": {},
     "output_type": "execute_result"
    }
   ],
   "source": [
    "# 2. 給与をいくつかの階級に分け、各階級の度数と総所得額を計算する\n",
    "#   (イケてる書き方あったら教えて欲しい)\n",
    "\n",
    "countA = dfA.groupby('給与')['給与'].count()\n",
    "sumA = dfA.groupby('給与')['給与'].sum()\n",
    "countB = dfB.groupby('給与')['給与'].count()\n",
    "sumB = dfB.groupby('給与')['給与'].sum()\n",
    "countC = dfC.groupby('給与')['給与'].count()\n",
    "sumC = dfC.groupby('給与')['給与'].sum()\n",
    "\n",
    "listA = pd.DataFrame({'count':countA, 'sum':sumA})\n",
    "A = pd.cut(countA.index, np.arange(0, 1000, 100))\n",
    "listB = pd.DataFrame({'count':countB, 'sum':sumB})\n",
    "B = pd.cut(countB.index, np.arange(0, 1000, 100))\n",
    "listC = pd.DataFrame({'count':countC, 'sum':sumC})\n",
    "C = pd.cut(countC.index, np.arange(0, 1000, 100))\n",
    "\n",
    "cfrqA = listA.groupby(A).sum().fillna(0)\n",
    "cfrqB = listB.groupby(B).sum().fillna(0)\n",
    "cfrqC = listC.groupby(C).sum().fillna(0)\n",
    "\n",
    "cfrqC"
   ]
  },
  {
   "cell_type": "code",
   "execution_count": 69,
   "metadata": {},
   "outputs": [
    {
     "data": {
      "text/html": [
       "<div>\n",
       "<style scoped>\n",
       "    .dataframe tbody tr th:only-of-type {\n",
       "        vertical-align: middle;\n",
       "    }\n",
       "\n",
       "    .dataframe tbody tr th {\n",
       "        vertical-align: top;\n",
       "    }\n",
       "\n",
       "    .dataframe thead th {\n",
       "        text-align: right;\n",
       "    }\n",
       "</style>\n",
       "<table border=\"1\" class=\"dataframe\">\n",
       "  <thead>\n",
       "    <tr style=\"text-align: right;\">\n",
       "      <th></th>\n",
       "      <th>count</th>\n",
       "      <th>sum</th>\n",
       "      <th>relative_count</th>\n",
       "      <th>relative_sum</th>\n",
       "      <th>cum_count</th>\n",
       "      <th>cum_sum</th>\n",
       "    </tr>\n",
       "  </thead>\n",
       "  <tbody>\n",
       "    <tr>\n",
       "      <th>(0, 100]</th>\n",
       "      <td>0.0</td>\n",
       "      <td>0.0</td>\n",
       "      <td>0.000000</td>\n",
       "      <td>0.000000</td>\n",
       "      <td>0.000000</td>\n",
       "      <td>0.000000</td>\n",
       "    </tr>\n",
       "    <tr>\n",
       "      <th>(100, 200]</th>\n",
       "      <td>6.0</td>\n",
       "      <td>1200.0</td>\n",
       "      <td>0.400000</td>\n",
       "      <td>0.184615</td>\n",
       "      <td>0.400000</td>\n",
       "      <td>0.184615</td>\n",
       "    </tr>\n",
       "    <tr>\n",
       "      <th>(200, 300]</th>\n",
       "      <td>2.0</td>\n",
       "      <td>600.0</td>\n",
       "      <td>0.133333</td>\n",
       "      <td>0.092308</td>\n",
       "      <td>0.533333</td>\n",
       "      <td>0.276923</td>\n",
       "    </tr>\n",
       "    <tr>\n",
       "      <th>(300, 400]</th>\n",
       "      <td>1.0</td>\n",
       "      <td>400.0</td>\n",
       "      <td>0.066667</td>\n",
       "      <td>0.061538</td>\n",
       "      <td>0.600000</td>\n",
       "      <td>0.338462</td>\n",
       "    </tr>\n",
       "    <tr>\n",
       "      <th>(400, 500]</th>\n",
       "      <td>1.0</td>\n",
       "      <td>500.0</td>\n",
       "      <td>0.066667</td>\n",
       "      <td>0.076923</td>\n",
       "      <td>0.666667</td>\n",
       "      <td>0.415385</td>\n",
       "    </tr>\n",
       "    <tr>\n",
       "      <th>(500, 600]</th>\n",
       "      <td>1.0</td>\n",
       "      <td>600.0</td>\n",
       "      <td>0.066667</td>\n",
       "      <td>0.092308</td>\n",
       "      <td>0.733333</td>\n",
       "      <td>0.507692</td>\n",
       "    </tr>\n",
       "    <tr>\n",
       "      <th>(600, 700]</th>\n",
       "      <td>1.0</td>\n",
       "      <td>700.0</td>\n",
       "      <td>0.066667</td>\n",
       "      <td>0.107692</td>\n",
       "      <td>0.800000</td>\n",
       "      <td>0.615385</td>\n",
       "    </tr>\n",
       "    <tr>\n",
       "      <th>(700, 800]</th>\n",
       "      <td>2.0</td>\n",
       "      <td>1600.0</td>\n",
       "      <td>0.133333</td>\n",
       "      <td>0.246154</td>\n",
       "      <td>0.933333</td>\n",
       "      <td>0.861538</td>\n",
       "    </tr>\n",
       "    <tr>\n",
       "      <th>(800, 900]</th>\n",
       "      <td>1.0</td>\n",
       "      <td>900.0</td>\n",
       "      <td>0.066667</td>\n",
       "      <td>0.138462</td>\n",
       "      <td>1.000000</td>\n",
       "      <td>1.000000</td>\n",
       "    </tr>\n",
       "  </tbody>\n",
       "</table>\n",
       "</div>"
      ],
      "text/plain": [
       "            count     sum  relative_count  relative_sum  cum_count   cum_sum\n",
       "(0, 100]      0.0     0.0        0.000000      0.000000   0.000000  0.000000\n",
       "(100, 200]    6.0  1200.0        0.400000      0.184615   0.400000  0.184615\n",
       "(200, 300]    2.0   600.0        0.133333      0.092308   0.533333  0.276923\n",
       "(300, 400]    1.0   400.0        0.066667      0.061538   0.600000  0.338462\n",
       "(400, 500]    1.0   500.0        0.066667      0.076923   0.666667  0.415385\n",
       "(500, 600]    1.0   600.0        0.066667      0.092308   0.733333  0.507692\n",
       "(600, 700]    1.0   700.0        0.066667      0.107692   0.800000  0.615385\n",
       "(700, 800]    2.0  1600.0        0.133333      0.246154   0.933333  0.861538\n",
       "(800, 900]    1.0   900.0        0.066667      0.138462   1.000000  1.000000"
      ]
     },
     "execution_count": 69,
     "metadata": {},
     "output_type": "execute_result"
    }
   ],
   "source": [
    "# 3. 各階級に対して、全従業員、全所得額に対する階級の相対度数を示す。\n",
    "\n",
    "total_countA = cfrqA['count'].sum()\n",
    "total_sumA = cfrqA['sum'].sum()\n",
    "total_countB = cfrqB['count'].sum()\n",
    "total_sumB = cfrqB['sum'].sum()\n",
    "total_countC = cfrqC['count'].sum()\n",
    "total_sumC = cfrqC['sum'].sum()\n",
    "\n",
    "cfrqA['relative_count'] = cfrqA['count']/total_countA\n",
    "cfrqA['relative_sum'] = cfrqA['sum']/total_sumA\n",
    "cfrqB['relative_count'] = cfrqB['count']/total_countB\n",
    "cfrqB['relative_sum'] = cfrqB['sum']/total_sumB\n",
    "cfrqC['relative_count'] = cfrqC['count']/total_countC\n",
    "cfrqC['relative_sum'] = cfrqC['sum']/total_sumC\n",
    "cfrqA['cum_count'] = cfrqA['relative_count'].cumsum()\n",
    "cfrqA['cum_sum'] = cfrqA['relative_sum'].cumsum()\n",
    "cfrqB['cum_count'] = cfrqB['relative_count'].cumsum()\n",
    "cfrqB['cum_sum'] = cfrqB['relative_sum'].cumsum()\n",
    "cfrqC['cum_count'] = cfrqC['relative_count'].cumsum()\n",
    "cfrqC['cum_sum'] = cfrqC['relative_sum'].cumsum()\n",
    "\n",
    "cfrqC"
   ]
  },
  {
   "cell_type": "code",
   "execution_count": 71,
   "metadata": {},
   "outputs": [
    {
     "data": {
      "text/plain": [
       "<matplotlib.axes._subplots.AxesSubplot at 0x7fecfceae668>"
      ]
     },
     "execution_count": 71,
     "metadata": {},
     "output_type": "execute_result"
    },
    {
     "data": {
      "image/png": "[encoded data removed]",
      "text/plain": [
       "<matplotlib.figure.Figure at 0x7fecfcec1c88>"
      ]
     },
     "metadata": {},
     "output_type": "display_data"
    }
   ],
   "source": [
    "# 4. 従業員の累積相対度数を横軸に、所得額の累積相対度数を縦軸にとる\n",
    "\n",
    "aA = cfrqA.plot(kind='line',y='cum_sum',x='cum_count',figsize=(5,5), xlim=[0,1], ylim=[0,1], label='A')\n",
    "cfrqB.plot(kind='line',y='cum_sum',x='cum_count',figsize=(5,5), xlim=[0,1], ylim=[0,1], ax = aA, label='B')\n",
    "cfrqC.plot(kind='line',y='cum_sum',x='cum_count',figsize=(5,5), xlim=[0,1], ylim=[0,1], ax = aA, label='C')"
   ]
  },
  {
   "cell_type": "markdown",
   "metadata": {},
   "source": [
    "完全平等なA社は綺麗なy=xの線、超実力主義のC社は下に大きく弧を描いている。  \n",
    "このようにローレンツ曲線を用いることで視覚的に格差を表現できる。\n",
    "\n",
    "ジニ係数は正方形に対して、y=xの線と弧を描いた線の間の面積の割合の2倍の値となる。  \n",
    "ここでは導出するのがものすごくめんどくさいので割愛する。Rだとこういうのは楽なのか？"
   ]
  },
  {
   "cell_type": "markdown",
   "metadata": {},
   "source": [
    "----\n",
    "\n",
    "#### ch2_2-7 カイ二乗値\n",
    "\n",
    "カイ二乗値＝（（（観測度数－期待度数）の２乗）/ 期待度数）の総和。  \n",
    "期待度数は、行要素の合計や列要素の合計の比率から逆算して期待される度数のこと。  \n",
    "詳しくはカイ二乗検定で取り扱う。\n",
    "\n",
    "----"
   ]
  },
  {
   "cell_type": "markdown",
   "metadata": {},
   "source": [
    "----\n",
    "\n",
    "#### ch2_2-8 歪度\n",
    "#### ch2_2-9 尖度\n",
    "\n",
    "歪度は、分布の非対称性を示す指標。  \n",
    "尖度は、確率変数の確率密度関数や頻度分布の鋭さを表す数字。  \n",
    "分布の章で詳しく取り扱う。\n",
    "\n",
    "----"
   ]
  },
  {
   "cell_type": "markdown",
   "metadata": {},
   "source": [
    "### 参考\n",
    "\n",
    "参考1: 日本統計学会 編. 改訂版 日本統計学会公式認定 統計検定2級対応 統計学基礎. 東京図書, 2015, 272p  \n",
    "参考2: 日本統計学会.\"統計検定2級出題範囲表\".http://www.toukei-kentei.jp/wp-content/uploads/grade2_hani_170727.pdf 、(参照2018-02-05).\n"
   ]
  },
  {
   "cell_type": "markdown",
   "metadata": {},
   "source": [
    "*Revision:001 2018/02/21 init*"
   ]
  }
 ],
 "metadata": {
  "kernelspec": {
   "display_name": "Python 3",
   "language": "python",
   "name": "python3"
  },
  "language_info": {
   "codemirror_mode": {
    "name": "ipython",
    "version": 3
   },
   "file_extension": ".py",
   "mimetype": "text/x-python",
   "name": "python",
   "nbconvert_exporter": "python",
   "pygments_lexer": "ipython3",
   "version": "3.6.3"
  }
 },
 "nbformat": 4,
 "nbformat_minor": 2
}
