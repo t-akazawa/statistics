{
 "cells": [
  {
   "cell_type": "markdown",
   "metadata": {},
   "source": [
    "#### 統計検定2級 学習資料\n",
    "\n",
    "公式サイトの出題範囲表の用語と関連事項をまとめる。"
   ]
  },
  {
   "cell_type": "markdown",
   "metadata": {},
   "source": [
    "----\n",
    "\n",
    "## 2. 1変数データ"
   ]
  },
  {
   "cell_type": "markdown",
   "metadata": {},
   "source": [
    "\n",
    "### 2.2. 散らばりなどの指標\n",
    "\n",
    "ねらい：分布の散らばりの大きさなどを評価する方法を理解する。"
   ]
  },
  {
   "cell_type": "markdown",
   "metadata": {},
   "source": [
    "----\n",
    "\n",
    "#### 項目（学習しておくべき用語）\n",
    "\n",
    "|番号|項目|alias|\n",
    "|:---:|:---:|:---:|\n",
    "|ch2_2-1|分散|variance|\n",
    "|ch2_2-2|標準偏差|standard deviation|\n",
    "|ch2_2-3|範囲（最小値、最大値）|-|\n",
    "|ch2_2-4|四分位範囲|interquartile range|\n",
    "|ch2_2-5|箱ひげ図|box plot|\n",
    "|ch2_2-6|ローレンツ曲線|Lorenz curve|\n",
    "|ch2_2-7|ジニ係数|Gini coefficient|\n",
    "|ch2_2-8|カイ二乗分布|chi-square(d) distribution|\n",
    "|ch2_2-9|歪度（ワイド）|skewness|\n",
    "|ch2_2-A|尖度（センド）|kurtosis|\n"
   ]
  },
  {
   "cell_type": "markdown",
   "metadata": {},
   "source": [
    "----\n",
    "\n",
    "#### ch2_2-1 分散\n",
    "＊不偏分散は別章で説明。\n",
    "各観測値の平均値からの偏差を二乗して平均したもの。\n",
    "\n",
    "データの散らばり具合を表す指標。\n",
    "\n",
    "----"
   ]
  },
  {
   "cell_type": "markdown",
   "metadata": {},
   "source": [
    "マークダウンモードでLatexの数式を書いてみる。書き方はググれば出てきますが以下を参考にしました。  \n",
    "http://48n.jp/blog/2016/07/12/sample-of-formula/  "
   ]
  },
  {
   "cell_type": "markdown",
   "metadata": {},
   "source": [
    "分散の式(1.3.2)： (MACでバックスラッシュはoption+¥)  \n",
    "  数式の番号は参考1の番号です。\n",
    "\n",
    "$$\n",
    "\\begin{align}\n",
    "s^2 = \\frac{1}{n} \\sum _{i=1} ^{n} {(x_i - \\bar{x})^2}\n",
    "\\end{align}\n",
    "$$\n",
    "\n",
    "$$\n",
    "\\begin{align}\n",
    "s^2は分散\n",
    "\\end{align}\n",
    "$$\n",
    "\n",
    "$$\n",
    "\\begin{align}\n",
    "x_iは各観測値\n",
    "\\end{align}\n",
    "$$\n",
    "\n",
    "$$\n",
    "\\begin{align}\n",
    "\\bar{x}は平均値\n",
    "\\end{align}\n",
    "$$\n",
    "\n",
    "を表します。\n"
   ]
  },
  {
   "cell_type": "raw",
   "metadata": {},
   "source": [
    "$$\n",
    "\\begin{align}\n",
    "s^2 = \\frac{1}{n} \\sum _{i=1} ^{n} {(x_i - \\bar{x})^2}\n",
    "\\end{align}\n",
    "$$"
   ]
  },
  {
   "cell_type": "code",
   "execution_count": 8,
   "metadata": {},
   "outputs": [],
   "source": [
    "# importする\n",
    "import pandas as pd\n",
    "import numpy as np\n",
    "import matplotlib.pyplot as plt\n",
    "import math\n",
    "\n",
    "# 以下のインライン展開のコードを走らせないとmatplotlibのグラフ表示ができない場合がある\n",
    "%matplotlib inline"
   ]
  },
  {
   "cell_type": "markdown",
   "metadata": {},
   "source": [
    "### 参考\n",
    "\n",
    "参考1: 日本統計学会 編. 改訂版 日本統計学会公式認定 統計検定2級対応 統計学基礎. 東京図書, 2015, 272p  \n",
    "参考2: 日本統計学会.\"統計検定2級出題範囲表\".http://www.toukei-kentei.jp/wp-content/uploads/grade2_hani_170727.pdf 、(参照2018-02-05).\n"
   ]
  },
  {
   "cell_type": "markdown",
   "metadata": {},
   "source": [
    "*Revision:001 2018/02/11 init*"
   ]
  },
  {
   "cell_type": "code",
   "execution_count": null,
   "metadata": {},
   "outputs": [],
   "source": []
  }
 ],
 "metadata": {
  "kernelspec": {
   "display_name": "Python 3",
   "language": "python",
   "name": "python3"
  },
  "language_info": {
   "codemirror_mode": {
    "name": "ipython",
    "version": 3
   },
   "file_extension": ".py",
   "mimetype": "text/x-python",
   "name": "python",
   "nbconvert_exporter": "python",
   "pygments_lexer": "ipython3",
   "version": "3.6.3"
  }
 },
 "nbformat": 4,
 "nbformat_minor": 2
}
