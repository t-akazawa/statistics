{
 "cells": [
  {
   "cell_type": "markdown",
   "metadata": {},
   "source": [
    "#### 統計検定2級 学習資料\n",
    "\n",
    "公式サイトの出題範囲表の用語と関連事項をまとめる。"
   ]
  },
  {
   "cell_type": "markdown",
   "metadata": {},
   "source": [
    "----\n",
    "\n",
    "## 3. 2変数以上のデータ"
   ]
  },
  {
   "cell_type": "markdown",
   "metadata": {},
   "source": [
    "\n",
    "### 3.1. 散布図と相関\n",
    "\n",
    "ねらい：散布図や相関係数を活用して、変数間の関係を探る方法を理解する。"
   ]
  },
  {
   "cell_type": "markdown",
   "metadata": {},
   "source": [
    "----\n",
    "\n",
    "#### 項目（学習しておくべき用語）\n",
    "\n",
    "|番号|項目|alias|\n",
    "|:---:|:---:|:---:|\n",
    "|ch3_1-1|散布図|scatter diagram (相関図)|\n",
    "|ch3_1-2|相関係数|correlation coefficient|\n",
    "|ch3_1-3|共分散|covariance|\n",
    "|ch3_1-4|相関行列|correlation matrix|\n",
    "|ch3_1-5|擬相関|spurious correlation|\n",
    "|ch3_1-6|偏相関係数|partial correlation|\n"
   ]
  },
  {
   "cell_type": "markdown",
   "metadata": {},
   "source": [
    "----\n",
    "\n",
    "#### ch2_3-1 散布図\n",
    "\n",
    "相関とは、2つの変数が互いに影響を受け合って関係を持つこと。  \n",
    "散布図とは、それぞれ相関関係にある2変数(x, y)の組の点を二次元平面に配置した図。\n",
    "\n",
    "----"
   ]
  },
  {
   "cell_type": "code",
   "execution_count": 1,
   "metadata": {},
   "outputs": [],
   "source": [
    "# importする\n",
    "import pandas as pd\n",
    "import numpy as np\n",
    "import matplotlib.pyplot as plt\n",
    "import math\n",
    "\n",
    "# 以下のインライン展開のコードを走らせないとmatplotlibのグラフ表示ができない場合がある\n",
    "%matplotlib inline"
   ]
  },
  {
   "cell_type": "code",
   "execution_count": 6,
   "metadata": {},
   "outputs": [
    {
     "data": {
      "text/html": [
       "<div>\n",
       "<style scoped>\n",
       "    .dataframe tbody tr th:only-of-type {\n",
       "        vertical-align: middle;\n",
       "    }\n",
       "\n",
       "    .dataframe tbody tr th {\n",
       "        vertical-align: top;\n",
       "    }\n",
       "\n",
       "    .dataframe thead th {\n",
       "        text-align: right;\n",
       "    }\n",
       "</style>\n",
       "<table border=\"1\" class=\"dataframe\">\n",
       "  <thead>\n",
       "    <tr style=\"text-align: right;\">\n",
       "      <th></th>\n",
       "      <th>賃料</th>\n",
       "      <th>占有面積</th>\n",
       "    </tr>\n",
       "  </thead>\n",
       "  <tbody>\n",
       "    <tr>\n",
       "      <th>0</th>\n",
       "      <td>7.0</td>\n",
       "      <td>20.61</td>\n",
       "    </tr>\n",
       "    <tr>\n",
       "      <th>1</th>\n",
       "      <td>7.4</td>\n",
       "      <td>16.34</td>\n",
       "    </tr>\n",
       "    <tr>\n",
       "      <th>2</th>\n",
       "      <td>7.4</td>\n",
       "      <td>16.34</td>\n",
       "    </tr>\n",
       "    <tr>\n",
       "      <th>3</th>\n",
       "      <td>7.5</td>\n",
       "      <td>17.11</td>\n",
       "    </tr>\n",
       "    <tr>\n",
       "      <th>4</th>\n",
       "      <td>7.6</td>\n",
       "      <td>18.26</td>\n",
       "    </tr>\n",
       "  </tbody>\n",
       "</table>\n",
       "</div>"
      ],
      "text/plain": [
       "    賃料   占有面積\n",
       "0  7.0  20.61\n",
       "1  7.4  16.34\n",
       "2  7.4  16.34\n",
       "3  7.5  17.11\n",
       "4  7.6  18.26"
      ]
     },
     "execution_count": 6,
     "metadata": {},
     "output_type": "execute_result"
    }
   ],
   "source": [
    "# 今回はcsvファイルを読み込んでみる。\n",
    "# pandas_1.pyenbを元に作成した賃貸に関する情報(賃料、占有面積)\n",
    "\n",
    "df = pd.read_csv('./ch3-1_suumo.csv')\n",
    "df.head(5)"
   ]
  },
  {
   "cell_type": "code",
   "execution_count": 7,
   "metadata": {},
   "outputs": [
    {
     "data": {
      "text/plain": [
       "<matplotlib.axes._subplots.AxesSubplot at 0x7fcd225bd080>"
      ]
     },
     "execution_count": 7,
     "metadata": {},
     "output_type": "execute_result"
    },
    {
     "data": {
      "image/png": "[encoded data removed]",
      "text/plain": [
       "<matplotlib.figure.Figure at 0x7fcd226207b8>"
      ]
     },
     "metadata": {},
     "output_type": "display_data"
    }
   ],
   "source": [
    "# 散布図を書く 日本語がうまく表示できていないけど無視\n",
    "df.plot(kind='scatter',x='賃料',y='占有面積')"
   ]
  },
  {
   "cell_type": "code",
   "execution_count": 50,
   "metadata": {},
   "outputs": [
    {
     "data": {
      "text/html": [
       "<div>\n",
       "<style scoped>\n",
       "    .dataframe tbody tr th:only-of-type {\n",
       "        vertical-align: middle;\n",
       "    }\n",
       "\n",
       "    .dataframe tbody tr th {\n",
       "        vertical-align: top;\n",
       "    }\n",
       "\n",
       "    .dataframe thead th {\n",
       "        text-align: right;\n",
       "    }\n",
       "</style>\n",
       "<table border=\"1\" class=\"dataframe\">\n",
       "  <thead>\n",
       "    <tr style=\"text-align: right;\">\n",
       "      <th></th>\n",
       "      <th>Unnamed: 0</th>\n",
       "      <th>階</th>\n",
       "      <th>賃料</th>\n",
       "      <th>占有面積</th>\n",
       "    </tr>\n",
       "  </thead>\n",
       "  <tbody>\n",
       "    <tr>\n",
       "      <th>0</th>\n",
       "      <td>0</td>\n",
       "      <td>5.0</td>\n",
       "      <td>10.65</td>\n",
       "      <td>25.71</td>\n",
       "    </tr>\n",
       "    <tr>\n",
       "      <th>1</th>\n",
       "      <td>1</td>\n",
       "      <td>7.0</td>\n",
       "      <td>7.80</td>\n",
       "      <td>21.03</td>\n",
       "    </tr>\n",
       "    <tr>\n",
       "      <th>2</th>\n",
       "      <td>2</td>\n",
       "      <td>3.0</td>\n",
       "      <td>10.20</td>\n",
       "      <td>26.10</td>\n",
       "    </tr>\n",
       "    <tr>\n",
       "      <th>3</th>\n",
       "      <td>3</td>\n",
       "      <td>2.0</td>\n",
       "      <td>6.90</td>\n",
       "      <td>19.83</td>\n",
       "    </tr>\n",
       "    <tr>\n",
       "      <th>4</th>\n",
       "      <td>4</td>\n",
       "      <td>3.0</td>\n",
       "      <td>10.30</td>\n",
       "      <td>25.03</td>\n",
       "    </tr>\n",
       "  </tbody>\n",
       "</table>\n",
       "</div>"
      ],
      "text/plain": [
       "   Unnamed: 0    階     賃料   占有面積\n",
       "0           0  5.0  10.65  25.71\n",
       "1           1  7.0   7.80  21.03\n",
       "2           2  3.0  10.20  26.10\n",
       "3           3  2.0   6.90  19.83\n",
       "4           4  3.0  10.30  25.03"
      ]
     },
     "execution_count": 50,
     "metadata": {},
     "output_type": "execute_result"
    }
   ],
   "source": [
    "# 新宿区、ワンルーム・1K、鉄筋、2F以上、マンションタイプで検索した物件情報のCSV\n",
    "df2 = pd.read_csv('./ch3-1_suumo2.csv')\n",
    "df2.head(5)"
   ]
  },
  {
   "cell_type": "code",
   "execution_count": 51,
   "metadata": {},
   "outputs": [
    {
     "data": {
      "text/plain": [
       "<matplotlib.axes._subplots.AxesSubplot at 0x7fcd1f15f278>"
      ]
     },
     "execution_count": 51,
     "metadata": {},
     "output_type": "execute_result"
    },
    {
     "data": {
      "image/png": "[encoded data removed]",
      "text/plain": [
       "<matplotlib.figure.Figure at 0x7fcd1f169dd8>"
      ]
     },
     "metadata": {},
     "output_type": "display_data"
    }
   ],
   "source": [
    "# 散布図を書く\n",
    "# x軸は賃料、y軸は占有面積、色の階調で階を表現している\n",
    "df2.plot(kind='scatter',x='賃料',y='占有面積', c='階', cmap='Blues')"
   ]
  },
  {
   "cell_type": "markdown",
   "metadata": {},
   "source": [
    "賃料と占有面積の間には**正の相関**があることがわかる。  \n",
    "\n",
    "正の相関：y=ax+bっぽい形の図  \n",
    "負の相関：y=-ax+bっぽい形の図  \n",
    "シュッとした形になる程相関が強い。"
   ]
  },
  {
   "cell_type": "code",
   "execution_count": 52,
   "metadata": {},
   "outputs": [
    {
     "data": {
      "text/plain": [
       "<matplotlib.axes._subplots.AxesSubplot at 0x7fcd1f169b70>"
      ]
     },
     "execution_count": 52,
     "metadata": {},
     "output_type": "execute_result"
    },
    {
     "data": {
      "image/png": "[encoded data removed]",
      "text/plain": [
       "<matplotlib.figure.Figure at 0x7fcd1f03db70>"
      ]
     },
     "metadata": {},
     "output_type": "display_data"
    }
   ],
   "source": [
    "df2.plot(kind='scatter',x='賃料',y='階', c='占有面積', cmap='Blues')"
   ]
  },
  {
   "cell_type": "markdown",
   "metadata": {},
   "source": [
    "賃料と階の間には相関は見られない（データ量が少ないだけかもしれないがこの図では）"
   ]
  },
  {
   "cell_type": "markdown",
   "metadata": {},
   "source": [
    "----\n",
    "\n",
    "#### ch2_3-2 相関係数\n",
    "#### ch2_3-3 共分散\n",
    "\n",
    "散布図では、定量的に相関について議論できない。  \n",
    "相関係数は**直線的な**相関関係の強さを表す指標の一つ。\n",
    "\n",
    "共分散も同様に相関関係の強さを表す。相関係数との違いは後述する。\n",
    "\n",
    "----"
   ]
  },
  {
   "cell_type": "markdown",
   "metadata": {},
   "source": [
    "共分散の式(1.6.1):"
   ]
  },
  {
   "cell_type": "markdown",
   "metadata": {},
   "source": [
    "$$\n",
    "\\begin{align}\n",
    "S_{xy} = \\frac{1}{n}\\sum _{i=1} ^{n} {(x_i - \\bar{x})(y_i - \\bar{y})}\n",
    "\\end{align}\n",
    "$$"
   ]
  },
  {
   "cell_type": "markdown",
   "metadata": {},
   "source": [
    "$$\n",
    "\\begin{align}\n",
    "diffX = (x_i - \\bar{x})  \n",
    "\\end{align}\n",
    "$$"
   ]
  },
  {
   "cell_type": "markdown",
   "metadata": {},
   "source": [
    "$$\n",
    "\\begin{align}\n",
    "diffY = (y_i - \\bar{y})  \n",
    "\\end{align}\n",
    "$$"
   ]
  },
  {
   "cell_type": "markdown",
   "metadata": {},
   "source": [
    "$$\n",
    "\\begin{align}\n",
    "diffXY = (x_i - \\bar{x})(y_i - \\bar{y})  \n",
    "\\end{align}\n",
    "$$"
   ]
  },
  {
   "cell_type": "markdown",
   "metadata": {},
   "source": [
    "説明のために、diffX,diffY,diffXYを定義した。  "
   ]
  },
  {
   "cell_type": "code",
   "execution_count": 57,
   "metadata": {},
   "outputs": [
    {
     "name": "stdout",
     "output_type": "stream",
     "text": [
      "8.88535714286\n",
      "22.9711785714\n"
     ]
    },
    {
     "data": {
      "text/html": [
       "<div>\n",
       "<style scoped>\n",
       "    .dataframe tbody tr th:only-of-type {\n",
       "        vertical-align: middle;\n",
       "    }\n",
       "\n",
       "    .dataframe tbody tr th {\n",
       "        vertical-align: top;\n",
       "    }\n",
       "\n",
       "    .dataframe thead th {\n",
       "        text-align: right;\n",
       "    }\n",
       "</style>\n",
       "<table border=\"1\" class=\"dataframe\">\n",
       "  <thead>\n",
       "    <tr style=\"text-align: right;\">\n",
       "      <th></th>\n",
       "      <th>Unnamed: 0</th>\n",
       "      <th>階</th>\n",
       "      <th>賃料</th>\n",
       "      <th>占有面積</th>\n",
       "      <th>diffX</th>\n",
       "      <th>diffY</th>\n",
       "      <th>diffXY</th>\n",
       "    </tr>\n",
       "  </thead>\n",
       "  <tbody>\n",
       "    <tr>\n",
       "      <th>0</th>\n",
       "      <td>0</td>\n",
       "      <td>5.0</td>\n",
       "      <td>10.65</td>\n",
       "      <td>25.71</td>\n",
       "      <td>1.764643</td>\n",
       "      <td>2.738821</td>\n",
       "      <td>4.833042</td>\n",
       "    </tr>\n",
       "    <tr>\n",
       "      <th>1</th>\n",
       "      <td>1</td>\n",
       "      <td>7.0</td>\n",
       "      <td>7.80</td>\n",
       "      <td>21.03</td>\n",
       "      <td>-1.085357</td>\n",
       "      <td>-1.941179</td>\n",
       "      <td>2.106872</td>\n",
       "    </tr>\n",
       "    <tr>\n",
       "      <th>2</th>\n",
       "      <td>2</td>\n",
       "      <td>3.0</td>\n",
       "      <td>10.20</td>\n",
       "      <td>26.10</td>\n",
       "      <td>1.314643</td>\n",
       "      <td>3.128821</td>\n",
       "      <td>4.113283</td>\n",
       "    </tr>\n",
       "    <tr>\n",
       "      <th>3</th>\n",
       "      <td>3</td>\n",
       "      <td>2.0</td>\n",
       "      <td>6.90</td>\n",
       "      <td>19.83</td>\n",
       "      <td>-1.985357</td>\n",
       "      <td>-3.141179</td>\n",
       "      <td>6.236361</td>\n",
       "    </tr>\n",
       "    <tr>\n",
       "      <th>4</th>\n",
       "      <td>4</td>\n",
       "      <td>3.0</td>\n",
       "      <td>10.30</td>\n",
       "      <td>25.03</td>\n",
       "      <td>1.414643</td>\n",
       "      <td>2.058821</td>\n",
       "      <td>2.912497</td>\n",
       "    </tr>\n",
       "  </tbody>\n",
       "</table>\n",
       "</div>"
      ],
      "text/plain": [
       "   Unnamed: 0    階     賃料   占有面積     diffX     diffY    diffXY\n",
       "0           0  5.0  10.65  25.71  1.764643  2.738821  4.833042\n",
       "1           1  7.0   7.80  21.03 -1.085357 -1.941179  2.106872\n",
       "2           2  3.0  10.20  26.10  1.314643  3.128821  4.113283\n",
       "3           3  2.0   6.90  19.83 -1.985357 -3.141179  6.236361\n",
       "4           4  3.0  10.30  25.03  1.414643  2.058821  2.912497"
      ]
     },
     "execution_count": 57,
     "metadata": {},
     "output_type": "execute_result"
    }
   ],
   "source": [
    "# diffX,diffYを出し、それらをかけたdiffXYを出す。\n",
    "mX = df2['賃料'].mean()\n",
    "mY = df2['占有面積'].mean()\n",
    "print(mX)\n",
    "print(mY)\n",
    "\n",
    "df2['diffX'] = df2['賃料'] - mX\n",
    "df2['diffY'] = df2['占有面積'] - mY\n",
    "df2['diffXY'] = df2['diffX'] * df2['diffY']\n",
    "df2.head(5)"
   ]
  },
  {
   "cell_type": "code",
   "execution_count": 58,
   "metadata": {},
   "outputs": [
    {
     "data": {
      "text/plain": [
       "<matplotlib.axes._subplots.AxesSubplot at 0x7fcd1f152e10>"
      ]
     },
     "execution_count": 58,
     "metadata": {},
     "output_type": "execute_result"
    },
    {
     "data": {
      "image/png": "[encoded data removed]",
      "text/plain": [
       "<matplotlib.figure.Figure at 0x7fcd1eee6278>"
      ]
     },
     "metadata": {},
     "output_type": "display_data"
    }
   ],
   "source": [
    "df2.plot(kind='scatter',x='diffX',y='diffY',ylim = [-20,30], yticks=[mY], xticks=[mX], grid=True)"
   ]
  },
  {
   "cell_type": "markdown",
   "metadata": {},
   "source": [
    "図中の線は賃料と占有面積の平均値である。  \n",
    "2変数の平均値の交点をoriginと見なすと、多くが第3象限に位置する。\n",
    "\n",
    "つまりdiffXYの多くは正の値となることがわかる。  \n",
    "∵ diffX < 0, diffY < 0の時、diffXY > 0\n",
    "\n",
    "このように各観測値のdiffXYを求めてそれらを全て足し合わせて平均をとったものが共分散である。  "
   ]
  },
  {
   "cell_type": "code",
   "execution_count": 59,
   "metadata": {},
   "outputs": [
    {
     "data": {
      "text/plain": [
       "9.1137508290816314"
      ]
     },
     "execution_count": 59,
     "metadata": {},
     "output_type": "execute_result"
    }
   ],
   "source": [
    "# 共分散を求める\n",
    "sxy = df2['diffXY'].sum()/df2['diffXY'].count()\n",
    "sxy"
   ]
  },
  {
   "cell_type": "code",
   "execution_count": 60,
   "metadata": {},
   "outputs": [
    {
     "data": {
      "text/html": [
       "<div>\n",
       "<style scoped>\n",
       "    .dataframe tbody tr th:only-of-type {\n",
       "        vertical-align: middle;\n",
       "    }\n",
       "\n",
       "    .dataframe tbody tr th {\n",
       "        vertical-align: top;\n",
       "    }\n",
       "\n",
       "    .dataframe thead th {\n",
       "        text-align: right;\n",
       "    }\n",
       "</style>\n",
       "<table border=\"1\" class=\"dataframe\">\n",
       "  <thead>\n",
       "    <tr style=\"text-align: right;\">\n",
       "      <th></th>\n",
       "      <th>Unnamed: 0</th>\n",
       "      <th>階</th>\n",
       "      <th>賃料</th>\n",
       "      <th>占有面積</th>\n",
       "      <th>diffX</th>\n",
       "      <th>diffY</th>\n",
       "      <th>diffXY</th>\n",
       "    </tr>\n",
       "  </thead>\n",
       "  <tbody>\n",
       "    <tr>\n",
       "      <th>Unnamed: 0</th>\n",
       "      <td>204.260113</td>\n",
       "      <td>-3.947261</td>\n",
       "      <td>-5.320440</td>\n",
       "      <td>-7.563195</td>\n",
       "      <td>-5.320440</td>\n",
       "      <td>-7.563195</td>\n",
       "      <td>-25.315281</td>\n",
       "    </tr>\n",
       "    <tr>\n",
       "      <th>階</th>\n",
       "      <td>-3.947261</td>\n",
       "      <td>6.673720</td>\n",
       "      <td>1.196412</td>\n",
       "      <td>1.533240</td>\n",
       "      <td>1.196412</td>\n",
       "      <td>1.533240</td>\n",
       "      <td>8.120605</td>\n",
       "    </tr>\n",
       "    <tr>\n",
       "      <th>賃料</th>\n",
       "      <td>-5.320440</td>\n",
       "      <td>1.196412</td>\n",
       "      <td>5.052932</td>\n",
       "      <td>9.146417</td>\n",
       "      <td>5.052932</td>\n",
       "      <td>9.146417</td>\n",
       "      <td>37.801315</td>\n",
       "    </tr>\n",
       "    <tr>\n",
       "      <th>占有面積</th>\n",
       "      <td>-7.563195</td>\n",
       "      <td>1.533240</td>\n",
       "      <td>9.146417</td>\n",
       "      <td>23.472354</td>\n",
       "      <td>9.146417</td>\n",
       "      <td>23.472354</td>\n",
       "      <td>62.570416</td>\n",
       "    </tr>\n",
       "    <tr>\n",
       "      <th>diffX</th>\n",
       "      <td>-5.320440</td>\n",
       "      <td>1.196412</td>\n",
       "      <td>5.052932</td>\n",
       "      <td>9.146417</td>\n",
       "      <td>5.052932</td>\n",
       "      <td>9.146417</td>\n",
       "      <td>37.801315</td>\n",
       "    </tr>\n",
       "    <tr>\n",
       "      <th>diffY</th>\n",
       "      <td>-7.563195</td>\n",
       "      <td>1.533240</td>\n",
       "      <td>9.146417</td>\n",
       "      <td>23.472354</td>\n",
       "      <td>9.146417</td>\n",
       "      <td>23.472354</td>\n",
       "      <td>62.570416</td>\n",
       "    </tr>\n",
       "    <tr>\n",
       "      <th>diffXY</th>\n",
       "      <td>-25.315281</td>\n",
       "      <td>8.120605</td>\n",
       "      <td>37.801315</td>\n",
       "      <td>62.570416</td>\n",
       "      <td>37.801315</td>\n",
       "      <td>62.570416</td>\n",
       "      <td>739.924507</td>\n",
       "    </tr>\n",
       "  </tbody>\n",
       "</table>\n",
       "</div>"
      ],
      "text/plain": [
       "            Unnamed: 0         階         賃料       占有面積      diffX      diffY  \\\n",
       "Unnamed: 0  204.260113 -3.947261  -5.320440  -7.563195  -5.320440  -7.563195   \n",
       "階            -3.947261  6.673720   1.196412   1.533240   1.196412   1.533240   \n",
       "賃料           -5.320440  1.196412   5.052932   9.146417   5.052932   9.146417   \n",
       "占有面積         -7.563195  1.533240   9.146417  23.472354   9.146417  23.472354   \n",
       "diffX        -5.320440  1.196412   5.052932   9.146417   5.052932   9.146417   \n",
       "diffY        -7.563195  1.533240   9.146417  23.472354   9.146417  23.472354   \n",
       "diffXY      -25.315281  8.120605  37.801315  62.570416  37.801315  62.570416   \n",
       "\n",
       "                diffXY  \n",
       "Unnamed: 0  -25.315281  \n",
       "階             8.120605  \n",
       "賃料           37.801315  \n",
       "占有面積         62.570416  \n",
       "diffX        37.801315  \n",
       "diffY        62.570416  \n",
       "diffXY      739.924507  "
      ]
     },
     "execution_count": 60,
     "metadata": {},
     "output_type": "execute_result"
    }
   ],
   "source": [
    "# pandasの機能として共分散を出してくれる\n",
    "# 自分で出した値と多少違うがまあいっか diffXとdiffY間の共分散は9.1464..\n",
    "df2.cov()"
   ]
  },
  {
   "cell_type": "markdown",
   "metadata": {},
   "source": [
    "共分散だけを見ても値のレンジが変数の単位ごとに異なるためわかりにくい。  \n",
    "相関係数は共分散に対して2変数の標準偏差で割ることによって無単位化し、-1から1の値で表現するようにしている。"
   ]
  },
  {
   "cell_type": "markdown",
   "metadata": {},
   "source": [
    "相関係数の式 (1.6.2):"
   ]
  },
  {
   "cell_type": "markdown",
   "metadata": {},
   "source": [
    "$$\n",
    "\\begin{align}\n",
    "r_{xy} = \\frac{s_{xy}}{{s_x}{s_y}}\n",
    "\\end{align}\n",
    "$$"
   ]
  },
  {
   "cell_type": "code",
   "execution_count": 63,
   "metadata": {},
   "outputs": [
    {
     "data": {
      "text/plain": [
       "0.83684896147997501"
      ]
     },
     "execution_count": 63,
     "metadata": {},
     "output_type": "execute_result"
    }
   ],
   "source": [
    "# 相関係数\n",
    "rxy = sxy/(df2['賃料'].std()*df2['占有面積'].std())\n",
    "rxy"
   ]
  },
  {
   "cell_type": "markdown",
   "metadata": {},
   "source": [
    "----\n",
    "\n",
    "#### ch2_3-4 相関行列\n",
    "\n",
    "各変数に相関係数を並べた行列のこと。  \n",
    "説明より実践した方がわかりやすい。\n",
    "\n",
    "----"
   ]
  },
  {
   "cell_type": "markdown",
   "metadata": {},
   "source": [
    "今回のテストに使用した新宿区の賃料と占有面積のデータに関しては、  \n",
    "かなり高い正の相関となることがわかった。"
   ]
  },
  {
   "cell_type": "code",
   "execution_count": 75,
   "metadata": {},
   "outputs": [
    {
     "data": {
      "text/html": [
       "<div>\n",
       "<style scoped>\n",
       "    .dataframe tbody tr th:only-of-type {\n",
       "        vertical-align: middle;\n",
       "    }\n",
       "\n",
       "    .dataframe tbody tr th {\n",
       "        vertical-align: top;\n",
       "    }\n",
       "\n",
       "    .dataframe thead th {\n",
       "        text-align: right;\n",
       "    }\n",
       "</style>\n",
       "<table border=\"1\" class=\"dataframe\">\n",
       "  <thead>\n",
       "    <tr style=\"text-align: right;\">\n",
       "      <th></th>\n",
       "      <th>Unnamed: 0</th>\n",
       "      <th>階</th>\n",
       "      <th>賃料</th>\n",
       "      <th>占有面積</th>\n",
       "      <th>diffX</th>\n",
       "      <th>diffY</th>\n",
       "      <th>diffXY</th>\n",
       "    </tr>\n",
       "  </thead>\n",
       "  <tbody>\n",
       "    <tr>\n",
       "      <th>Unnamed: 0</th>\n",
       "      <td>1.000000</td>\n",
       "      <td>-0.106910</td>\n",
       "      <td>-0.165609</td>\n",
       "      <td>-0.109228</td>\n",
       "      <td>-0.165609</td>\n",
       "      <td>-0.109228</td>\n",
       "      <td>-0.065117</td>\n",
       "    </tr>\n",
       "    <tr>\n",
       "      <th>階</th>\n",
       "      <td>-0.106910</td>\n",
       "      <td>1.000000</td>\n",
       "      <td>0.206027</td>\n",
       "      <td>0.122503</td>\n",
       "      <td>0.206027</td>\n",
       "      <td>0.122503</td>\n",
       "      <td>0.115561</td>\n",
       "    </tr>\n",
       "    <tr>\n",
       "      <th>賃料</th>\n",
       "      <td>-0.165609</td>\n",
       "      <td>0.206027</td>\n",
       "      <td>1.000000</td>\n",
       "      <td>0.839848</td>\n",
       "      <td>1.000000</td>\n",
       "      <td>0.839848</td>\n",
       "      <td>0.618218</td>\n",
       "    </tr>\n",
       "    <tr>\n",
       "      <th>占有面積</th>\n",
       "      <td>-0.109228</td>\n",
       "      <td>0.122503</td>\n",
       "      <td>0.839848</td>\n",
       "      <td>1.000000</td>\n",
       "      <td>0.839848</td>\n",
       "      <td>1.000000</td>\n",
       "      <td>0.474785</td>\n",
       "    </tr>\n",
       "    <tr>\n",
       "      <th>diffX</th>\n",
       "      <td>-0.165609</td>\n",
       "      <td>0.206027</td>\n",
       "      <td>1.000000</td>\n",
       "      <td>0.839848</td>\n",
       "      <td>1.000000</td>\n",
       "      <td>0.839848</td>\n",
       "      <td>0.618218</td>\n",
       "    </tr>\n",
       "    <tr>\n",
       "      <th>diffY</th>\n",
       "      <td>-0.109228</td>\n",
       "      <td>0.122503</td>\n",
       "      <td>0.839848</td>\n",
       "      <td>1.000000</td>\n",
       "      <td>0.839848</td>\n",
       "      <td>1.000000</td>\n",
       "      <td>0.474785</td>\n",
       "    </tr>\n",
       "    <tr>\n",
       "      <th>diffXY</th>\n",
       "      <td>-0.065117</td>\n",
       "      <td>0.115561</td>\n",
       "      <td>0.618218</td>\n",
       "      <td>0.474785</td>\n",
       "      <td>0.618218</td>\n",
       "      <td>0.474785</td>\n",
       "      <td>1.000000</td>\n",
       "    </tr>\n",
       "  </tbody>\n",
       "</table>\n",
       "</div>"
      ],
      "text/plain": [
       "            Unnamed: 0         階        賃料      占有面積     diffX     diffY  \\\n",
       "Unnamed: 0    1.000000 -0.106910 -0.165609 -0.109228 -0.165609 -0.109228   \n",
       "階            -0.106910  1.000000  0.206027  0.122503  0.206027  0.122503   \n",
       "賃料           -0.165609  0.206027  1.000000  0.839848  1.000000  0.839848   \n",
       "占有面積         -0.109228  0.122503  0.839848  1.000000  0.839848  1.000000   \n",
       "diffX        -0.165609  0.206027  1.000000  0.839848  1.000000  0.839848   \n",
       "diffY        -0.109228  0.122503  0.839848  1.000000  0.839848  1.000000   \n",
       "diffXY       -0.065117  0.115561  0.618218  0.474785  0.618218  0.474785   \n",
       "\n",
       "              diffXY  \n",
       "Unnamed: 0 -0.065117  \n",
       "階           0.115561  \n",
       "賃料          0.618218  \n",
       "占有面積        0.474785  \n",
       "diffX       0.618218  \n",
       "diffY       0.474785  \n",
       "diffXY      1.000000  "
      ]
     },
     "execution_count": 75,
     "metadata": {},
     "output_type": "execute_result"
    }
   ],
   "source": [
    "# pandasの相関行列を出す機能\n",
    "# 行の変数と列の変数の間の相関係数を示したマトリックス。当然同じ変数同士であれば相関は1\n",
    "df2.corr()"
   ]
  },
  {
   "cell_type": "code",
   "execution_count": 74,
   "metadata": {},
   "outputs": [
    {
     "data": {
      "text/plain": [
       "<matplotlib.axes._subplots.AxesSubplot at 0x7fcd132b2978>"
      ]
     },
     "execution_count": 74,
     "metadata": {},
     "output_type": "execute_result"
    },
    {
     "data": {
      "image/png": "[encoded data removed]",
      "text/plain": [
       "<matplotlib.figure.Figure at 0x7fcd132a5358>"
      ]
     },
     "metadata": {},
     "output_type": "display_data"
    }
   ],
   "source": [
    "# ヒートマップを作成してみる\n",
    "import seaborn as sns\n",
    "\n",
    "# annotは数値を表示する\n",
    "sns.heatmap(df2.corr(), cmap='Blues', annot=True)"
   ]
  },
  {
   "cell_type": "markdown",
   "metadata": {},
   "source": [
    "----\n",
    "\n",
    "#### ch2_3-5 擬相関\n",
    "\n",
    "見かけ上の相関。\n",
    "\n",
    "----"
   ]
  },
  {
   "cell_type": "markdown",
   "metadata": {},
   "source": [
    "相関係数に関する注意。  \n",
    " - 相関関係と因果関係は異なる。相関関係が大きいことで因果関係が確認されるわけではない\n",
    " - 相関関係がなくとも2変数の相関係数が大きくなる場合がある  \n",
    "   それらの2変数と関連の強い第3の変数が大きく関与している場合など、このような場合に現れる相関を擬相関という\n",
    " - 相関係数は2変数の直線的な関係について考察したもので、非線形の関係についてはわからない"
   ]
  },
  {
   "cell_type": "code",
   "execution_count": 85,
   "metadata": {},
   "outputs": [
    {
     "data": {
      "text/html": [
       "<div>\n",
       "<style scoped>\n",
       "    .dataframe tbody tr th:only-of-type {\n",
       "        vertical-align: middle;\n",
       "    }\n",
       "\n",
       "    .dataframe tbody tr th {\n",
       "        vertical-align: top;\n",
       "    }\n",
       "\n",
       "    .dataframe thead th {\n",
       "        text-align: right;\n",
       "    }\n",
       "</style>\n",
       "<table border=\"1\" class=\"dataframe\">\n",
       "  <thead>\n",
       "    <tr style=\"text-align: right;\">\n",
       "      <th></th>\n",
       "      <th>tiku</th>\n",
       "      <th>cost</th>\n",
       "      <th>area</th>\n",
       "    </tr>\n",
       "  </thead>\n",
       "  <tbody>\n",
       "    <tr>\n",
       "      <th>0</th>\n",
       "      <td>15.0</td>\n",
       "      <td>8.5</td>\n",
       "      <td>20.14</td>\n",
       "    </tr>\n",
       "    <tr>\n",
       "      <th>1</th>\n",
       "      <td>19.0</td>\n",
       "      <td>7.2</td>\n",
       "      <td>20.87</td>\n",
       "    </tr>\n",
       "    <tr>\n",
       "      <th>2</th>\n",
       "      <td>15.0</td>\n",
       "      <td>12.9</td>\n",
       "      <td>28.55</td>\n",
       "    </tr>\n",
       "    <tr>\n",
       "      <th>3</th>\n",
       "      <td>19.0</td>\n",
       "      <td>7.8</td>\n",
       "      <td>20.92</td>\n",
       "    </tr>\n",
       "    <tr>\n",
       "      <th>4</th>\n",
       "      <td>24.0</td>\n",
       "      <td>5.9</td>\n",
       "      <td>18.00</td>\n",
       "    </tr>\n",
       "  </tbody>\n",
       "</table>\n",
       "</div>"
      ],
      "text/plain": [
       "   tiku  cost   area\n",
       "0  15.0   8.5  20.14\n",
       "1  19.0   7.2  20.87\n",
       "2  15.0  12.9  28.55\n",
       "3  19.0   7.8  20.92\n",
       "4  24.0   5.9  18.00"
      ]
     },
     "execution_count": 85,
     "metadata": {},
     "output_type": "execute_result"
    }
   ],
   "source": [
    "df3 = pd.read_csv('./ch3-1_suumo3.csv')\n",
    "df3 = df3.loc[:,['築年数','賃料','占有面積']]\n",
    "col = ['tiku','cost','area']\n",
    "df3.columns = col\n",
    "df3.head(5)"
   ]
  },
  {
   "cell_type": "code",
   "execution_count": 86,
   "metadata": {},
   "outputs": [
    {
     "data": {
      "text/plain": [
       "<matplotlib.axes._subplots.AxesSubplot at 0x7fcd12c8a9b0>"
      ]
     },
     "execution_count": 86,
     "metadata": {},
     "output_type": "execute_result"
    },
    {
     "data": {
      "image/png": "[encoded data removed]",
      "text/plain": [
       "<matplotlib.figure.Figure at 0x7fcd12e07080>"
      ]
     },
     "metadata": {},
     "output_type": "display_data"
    }
   ],
   "source": [
    "sns.heatmap(df3.corr(), cmap='Blues', annot=True)"
   ]
  },
  {
   "cell_type": "markdown",
   "metadata": {},
   "source": [
    "1.部屋が広いほど賃料が高い。  \n",
    "2.築年数が浅いほど賃料が高い。  \n",
    "3.築年数が浅いほど部屋が広い。\n",
    "\n",
    "全て体感的には正しそう。  \n",
    "これらの関係性を考えるために偏相関係数を用いる。"
   ]
  },
  {
   "cell_type": "markdown",
   "metadata": {},
   "source": [
    "----\n",
    "\n",
    "#### ch2_3-6 偏相関係数\n",
    "\n",
    "3変数の中から見かけ上の相関の影響を取り除いた後の相関係数を偏相関係数という。  \n",
    "家賃と築年数の関係について部屋の大きさの影響を除いて考えるような場合。\n",
    "\n",
    "----"
   ]
  },
  {
   "cell_type": "markdown",
   "metadata": {},
   "source": [
    "偏相関係数の式:"
   ]
  },
  {
   "cell_type": "markdown",
   "metadata": {},
   "source": [
    "$$\n",
    "\\begin{align}\n",
    "r_{(yz \\cdot{x})} = \\frac{r_{yz} - {r_{xy}}{r_{xz}}}{{\\sqrt{1-r_{xy}^2}}{\\sqrt{1-r_{xz}^2}}}\n",
    "\\end{align}\n",
    "$$"
   ]
  },
  {
   "cell_type": "code",
   "execution_count": 90,
   "metadata": {},
   "outputs": [
    {
     "data": {
      "text/plain": [
       "-0.5162487999306089"
      ]
     },
     "execution_count": 90,
     "metadata": {},
     "output_type": "execute_result"
    }
   ],
   "source": [
    "# (x,y,z) = (大きさ、賃料、築年数)\n",
    "rxy = df3.corr().iloc[2,1]\n",
    "ryz = df3.corr().iloc[1,0]\n",
    "rxz = df3.corr().iloc[2,0]\n",
    "\n",
    "# 賃料と築年数の偏相関係数r(yz・x)\n",
    "ryzx = (ryz - rxy * rxz)/( np.sqrt(1 - (np.square(rxy))) * (np.sqrt(1 - (np.square(rxy)))) )\n",
    "ryzx"
   ]
  },
  {
   "cell_type": "markdown",
   "metadata": {},
   "source": [
    "数値でいうと0.2ほど部屋の大きさの影響が賃料と築年数の相関に影響を与えていた。"
   ]
  },
  {
   "cell_type": "markdown",
   "metadata": {},
   "source": [
    "### 参考\n",
    "\n",
    "参考1: 日本統計学会 編. 改訂版 日本統計学会公式認定 統計検定2級対応 統計学基礎. 東京図書, 2015, 272p  \n",
    "参考2: 日本統計学会.\"統計検定2級出題範囲表\".http://www.toukei-kentei.jp/wp-content/uploads/grade2_hani_170727.pdf 、(参照2018-02-05).\n"
   ]
  },
  {
   "cell_type": "markdown",
   "metadata": {},
   "source": [
    "*Revision:001 2018/02/24 init*"
   ]
  }
 ],
 "metadata": {
  "kernelspec": {
   "display_name": "Python 3",
   "language": "python",
   "name": "python3"
  },
  "language_info": {
   "codemirror_mode": {
    "name": "ipython",
    "version": 3
   },
   "file_extension": ".py",
   "mimetype": "text/x-python",
   "name": "python",
   "nbconvert_exporter": "python",
   "pygments_lexer": "ipython3",
   "version": "3.6.3"
  }
 },
 "nbformat": 4,
 "nbformat_minor": 2
}
