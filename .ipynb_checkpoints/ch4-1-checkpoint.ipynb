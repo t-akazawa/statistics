{
 "cells": [
  {
   "cell_type": "markdown",
   "metadata": {},
   "source": [
    "#### 統計検定2級 学習資料\n",
    "\n",
    "公式サイトの出題範囲表の用語と関連事項をまとめる。"
   ]
  },
  {
   "cell_type": "markdown",
   "metadata": {},
   "source": [
    "----\n",
    "\n",
    "## 4. データの活用"
   ]
  },
  {
   "cell_type": "markdown",
   "metadata": {},
   "source": [
    "\n",
    "### 4.1. 単回帰と予測\n",
    "\n",
    "ねらい：回帰分析と基礎を理解する。"
   ]
  },
  {
   "cell_type": "markdown",
   "metadata": {},
   "source": [
    "----\n",
    "\n",
    "#### 項目（学習しておくべき用語）\n",
    "\n",
    "|番号|項目|alias|\n",
    "|:---:|:---:|:---:|\n",
    "|ch4_1-1|最小二乗法|least squares method (LSM)|\n",
    "|ch4_1-2|回帰係数|regression coefficient|\n",
    "|ch4_1-3|観測値と予測値|-|\n",
    "|ch4_1-4|平方和の分解|-|\n",
    "|ch4_1-5|決定係数|coefficient of determination|\n",
    "|ch4_1-6|残差プロット|-|"
   ]
  },
  {
   "cell_type": "markdown",
   "metadata": {},
   "source": [
    "----\n",
    "\n",
    "#### ch4_1-1 最小二乗法\n",
    "#### ch4_1-2 回帰係数\n",
    "#### ch4_1-3 観測値と予測値\n",
    "\n",
    "最小二乗法：  \n",
    "各観測値とその予測値の差分の二乗和を最小にするような係数(回帰係数)を決定する手法。  \n",
    "ある得られた変数から、別の知りたい変数との関係式を探るために用いる。\n",
    "\n",
    "----"
   ]
  },
  {
   "cell_type": "markdown",
   "metadata": {},
   "source": [
    "上の説明はわかりにくいので順を追って説明する。\n",
    "\n",
    "これまでの章で扱った相関という方法では2変数を対等に扱い関係性の数値を導出したが、  \n",
    "**回帰**という方法ではある変数（説明変数）から別の変数（応答変数）を説明したり予測したりする。\n",
    "\n",
    "説明や予測に用いる変数を**説明変数(explanatory variable)**といい、  \n",
    "説明変数により説明や予測される変数を**応答変数(response variable)**という。\n",
    "\n",
    "説明変数と応答変数に対して直線関係を考えるときに、  \n",
    "この直線のことを**回帰直線(regression line)**という。\n",
    "\n",
    "回帰直線の傾きと切片を**回帰係数(regression coefficient)**という。\n",
    "\n",
    "本節では、説明変数が一つだけの**単回帰分析**を扱う。"
   ]
  },
  {
   "cell_type": "markdown",
   "metadata": {},
   "source": [
    "回帰直線（単回帰）の式："
   ]
  },
  {
   "cell_type": "markdown",
   "metadata": {},
   "source": [
    "$$\n",
    "\\begin{align}\n",
    " y = \\alpha + \\beta{x}\n",
    "\\end{align}\n",
    "$$"
   ]
  },
  {
   "cell_type": "markdown",
   "metadata": {},
   "source": [
    "最も良く応答変数との関係を表す回帰直線を予測する。  \n",
    "この場合に求まった回帰直線を次のように表すとする。"
   ]
  },
  {
   "cell_type": "markdown",
   "metadata": {},
   "source": [
    "$$\n",
    "\\begin{align}\n",
    " y = \\hat{\\alpha} + \\hat{\\beta}x\n",
    "\\end{align}\n",
    "$$"
   ]
  },
  {
   "cell_type": "markdown",
   "metadata": {},
   "source": [
    "(ハット(^)は統計学において予測値や推定値を表す)"
   ]
  },
  {
   "cell_type": "code",
   "execution_count": 1,
   "metadata": {},
   "outputs": [],
   "source": [
    "# importする\n",
    "import pandas as pd\n",
    "import numpy as np\n",
    "import matplotlib.pyplot as plt\n",
    "import math\n",
    "\n",
    "# 以下のインライン展開のコードを走らせないとmatplotlibのグラフ表示ができない場合がある\n",
    "%matplotlib inline"
   ]
  },
  {
   "cell_type": "code",
   "execution_count": 17,
   "metadata": {},
   "outputs": [
    {
     "data": {
      "image/png": "[encoded data removed]",
      "text/plain": [
       "<matplotlib.figure.Figure at 0x7f3439cad2e8>"
      ]
     },
     "metadata": {},
     "output_type": "display_data"
    }
   ],
   "source": [
    "# グラフで書いてみる 傾き=1,切片=2とする\n",
    "\n",
    "x = np.linspace(0, 1, 10);\n",
    "plt.figure(0)\n",
    "plt.plot(x, x+2)\n",
    "plt.plot(0.2, 2.6, 'o')\n",
    "plt.show()"
   ]
  },
  {
   "cell_type": "markdown",
   "metadata": {},
   "source": [
    "上記の例でいうと、回帰直線と実際に測定された点には誤差があることがわかる。\n",
    "\n",
    "実際の**観測値(yi)**と**予測値(^yi)**の間の差のことを**残差(residual)**という。  \n",
    "各観測値においての残差を二乗したものに対して全観測値で総和をとった値を**残差平方和**という。  \n",
    "(二乗することでマイナス、プラスで残差を打ち消し合わないようにする)\n",
    "\n",
    "残差平方和が大きいほど予測値と観測値の差が大きいことになる。  \n",
    "この残差平方和を予測の精度の基準として採用し、  \n",
    "残差平方和が最小となるような回帰係数を求める手法を**最小二乗法(LSM)**という。"
   ]
  },
  {
   "cell_type": "markdown",
   "metadata": {},
   "source": [
    "残差平方和の式(1.6.3):"
   ]
  },
  {
   "cell_type": "markdown",
   "metadata": {},
   "source": [
    "$$\n",
    "\\begin{align}\n",
    "  S(\\hat{\\alpha},\\hat{\\beta}) = \\sum ({y_{i} - \\hat{y_{i}}})^2 = \\sum ({y_{i} - (\\hat{\\alpha} + \\hat{\\beta}x_{i}))}^2\n",
    "\\end{align}\n",
    "$$"
   ]
  },
  {
   "cell_type": "markdown",
   "metadata": {},
   "source": [
    "残差平方和は二つのパラメータ^αと^βの二次関数で最小値が存在する。  \n",
    "二つのパラメータについてそれぞれで残差平方和を偏微分し0に等しいとすると、以下の式が得られる。  \n",
    "式の過程は./figsのch4-1_1.jpgを参照。\n",
    "\n",
    "(下に凸グラフなので、=0で最小を求めることになる)"
   ]
  },
  {
   "cell_type": "markdown",
   "metadata": {},
   "source": [
    "相関係数の式(1.6.6:β、1.6.7:α):"
   ]
  },
  {
   "cell_type": "markdown",
   "metadata": {},
   "source": [
    "$$\n",
    "\\begin{align}\n",
    "\\begin{split}\n",
    "  &\\hat{\\beta} = \\frac{\\sum {(y_i - \\bar{y})(x_i - \\bar{x})}}{\\sum{(x_i - \\bar{x})^2}}\\\\\n",
    "  &=\\frac{s_{xy}}{s_{xx}}\\\\\n",
    "  &=r_{xy}\\frac{\\sqrt{s_{yy}}}{\\sqrt{s_{xx}}}\\\\\n",
    "  &=r_{xy}\\frac{s_y}{s_x}\\\\\n",
    "  &\\hat{\\alpha} = \\bar{y} - \\hat{\\beta}\\bar{x}\n",
    "\\end{split}\n",
    "\\end{align}\n",
    "$$"
   ]
  },
  {
   "cell_type": "markdown",
   "metadata": {},
   "source": [
    "sxxは変数xの分散、sxyは変数xとyの共分散。rxyは相関係数、sxは標準偏差。"
   ]
  },
  {
   "cell_type": "code",
   "execution_count": 3,
   "metadata": {},
   "outputs": [
    {
     "data": {
      "text/html": [
       "<div>\n",
       "<style scoped>\n",
       "    .dataframe tbody tr th:only-of-type {\n",
       "        vertical-align: middle;\n",
       "    }\n",
       "\n",
       "    .dataframe tbody tr th {\n",
       "        vertical-align: top;\n",
       "    }\n",
       "\n",
       "    .dataframe thead th {\n",
       "        text-align: right;\n",
       "    }\n",
       "</style>\n",
       "<table border=\"1\" class=\"dataframe\">\n",
       "  <thead>\n",
       "    <tr style=\"text-align: right;\">\n",
       "      <th></th>\n",
       "      <th>Unnamed: 0</th>\n",
       "      <th>築年数</th>\n",
       "      <th>賃料</th>\n",
       "      <th>占有面積</th>\n",
       "    </tr>\n",
       "  </thead>\n",
       "  <tbody>\n",
       "    <tr>\n",
       "      <th>0</th>\n",
       "      <td>0</td>\n",
       "      <td>15.0</td>\n",
       "      <td>8.5</td>\n",
       "      <td>20.14</td>\n",
       "    </tr>\n",
       "    <tr>\n",
       "      <th>1</th>\n",
       "      <td>1</td>\n",
       "      <td>19.0</td>\n",
       "      <td>7.2</td>\n",
       "      <td>20.87</td>\n",
       "    </tr>\n",
       "    <tr>\n",
       "      <th>2</th>\n",
       "      <td>2</td>\n",
       "      <td>15.0</td>\n",
       "      <td>12.9</td>\n",
       "      <td>28.55</td>\n",
       "    </tr>\n",
       "    <tr>\n",
       "      <th>3</th>\n",
       "      <td>3</td>\n",
       "      <td>19.0</td>\n",
       "      <td>7.8</td>\n",
       "      <td>20.92</td>\n",
       "    </tr>\n",
       "    <tr>\n",
       "      <th>4</th>\n",
       "      <td>4</td>\n",
       "      <td>24.0</td>\n",
       "      <td>5.9</td>\n",
       "      <td>18.00</td>\n",
       "    </tr>\n",
       "  </tbody>\n",
       "</table>\n",
       "</div>"
      ],
      "text/plain": [
       "   Unnamed: 0   築年数    賃料   占有面積\n",
       "0           0  15.0   8.5  20.14\n",
       "1           1  19.0   7.2  20.87\n",
       "2           2  15.0  12.9  28.55\n",
       "3           3  19.0   7.8  20.92\n",
       "4           4  24.0   5.9  18.00"
      ]
     },
     "execution_count": 3,
     "metadata": {},
     "output_type": "execute_result"
    }
   ],
   "source": [
    "df = pd.read_csv('./ch3-1_suumo3.csv')\n",
    "df.head(5)"
   ]
  },
  {
   "cell_type": "code",
   "execution_count": 4,
   "metadata": {},
   "outputs": [
    {
     "name": "stdout",
     "output_type": "stream",
     "text": [
      "[ 0.36288065]\n",
      "0.528399866386\n"
     ]
    }
   ],
   "source": [
    "# scikit-learnを使ってみる\n",
    "from sklearn import linear_model\n",
    "clf = linear_model.LinearRegression()\n",
    "\n",
    "X = df.loc[:, ['占有面積']].as_matrix()\n",
    "Y = df['賃料'].as_matrix()\n",
    "\n",
    "clf.fit(X,Y)\n",
    "\n",
    "# ^β\n",
    "print(clf.coef_)\n",
    "\n",
    "# ^α\n",
    "print(clf.intercept_)"
   ]
  },
  {
   "cell_type": "code",
   "execution_count": 5,
   "metadata": {},
   "outputs": [
    {
     "name": "stdout",
     "output_type": "stream",
     "text": [
      "0.362880654709\n",
      "0.524164528011\n"
     ]
    }
   ],
   "source": [
    "# 普通に数式から求めてみる\n",
    "rxy = df.corr().iloc[2,3]\n",
    "sx = df['占有面積'].std()\n",
    "sy = df['賃料'].std()\n",
    "\n",
    "beta = (rxy*sy)/sx\n",
    "print(beta)\n",
    "\n",
    "alpha = df['賃料'].std() - (beta*df['占有面積'].std())\n",
    "print(alpha)"
   ]
  },
  {
   "cell_type": "markdown",
   "metadata": {},
   "source": [
    "最小二乗法から導かれる性質:  \n",
    "  1. 予測値の平均=観測値の平均\n",
    "  2. 残差の平均は0\n",
    "  3. 回帰直線は、点(変数xの平均、変数yの平均)を通る\n",
    "  4. 予測値と残差の相関係数は0である\n",
    "  5. 平方和の分解\n",
    "  6. 決定係数\n",
    "  \n",
    " 1~4までは./figs/ch4-1_2.jpgで解く。  \n"
   ]
  },
  {
   "cell_type": "markdown",
   "metadata": {},
   "source": [
    "----\n",
    "\n",
    "#### ch4_1-4 平方和の分解 (変動の分解)\n",
    "\n",
    "全変動は、実際のデータとデータ全体の平均値との差を表す。  \n",
    "これは、実際のデータと推測値との差である残差変動と、  \n",
    "推定値とデータ全体の平均値との差である回帰変動を合わせたものである。 \n",
    "\n",
    "全変動の平方和 = 回帰変動の平方和（回帰直線で説明できる部分） + 残差平方和  \n",
    "./figs/ch4-1_3.jpgで分解の証明をする。  \n",
    "\n",
    "----"
   ]
  },
  {
   "cell_type": "markdown",
   "metadata": {},
   "source": [
    "総平方和の式(1.6.8):"
   ]
  },
  {
   "cell_type": "markdown",
   "metadata": {},
   "source": [
    "$$\n",
    "\\begin{align}\n",
    "\\begin{split}\n",
    "  \\sum(y_i - \\bar{y})^2 = \\sum(y_i - \\hat{y})^2 + \\sum(\\hat{y} - \\bar{y})^2\\\\\n",
    "\\end{split}\n",
    "\\end{align}\n",
    "$$"
   ]
  },
  {
   "cell_type": "markdown",
   "metadata": {},
   "source": [
    "$$\n",
    "\\begin{align}\n",
    "\\begin{split}\n",
    "  S_y(=S_T) = S_e + S_R\n",
    "\\end{split}\n",
    "\\end{align}\n",
    "$$"
   ]
  },
  {
   "cell_type": "markdown",
   "metadata": {},
   "source": [
    "----\n",
    "\n",
    "#### ch4_1-5 決定係数\n",
    "#### ch4_1-6 残差プロット\n",
    "\n",
    "総平方和中の回帰による平方和が占める割合。  \n",
    "\n",
    "----"
   ]
  },
  {
   "cell_type": "markdown",
   "metadata": {},
   "source": [
    "決定係数の式(1.6.9): #参考の書籍はSr/Syとなっているがおそらく間違い"
   ]
  },
  {
   "cell_type": "markdown",
   "metadata": {},
   "source": [
    "$$\n",
    "\\begin{align}\n",
    "\\begin{split}\n",
    "  R^2 = \\frac{S_E}{S_y}\n",
    "\\end{split}\n",
    "\\end{align}\n",
    "$$"
   ]
  },
  {
   "cell_type": "code",
   "execution_count": 6,
   "metadata": {},
   "outputs": [
    {
     "data": {
      "text/html": [
       "<div>\n",
       "<style scoped>\n",
       "    .dataframe tbody tr th:only-of-type {\n",
       "        vertical-align: middle;\n",
       "    }\n",
       "\n",
       "    .dataframe tbody tr th {\n",
       "        vertical-align: top;\n",
       "    }\n",
       "\n",
       "    .dataframe thead th {\n",
       "        text-align: right;\n",
       "    }\n",
       "</style>\n",
       "<table border=\"1\" class=\"dataframe\">\n",
       "  <thead>\n",
       "    <tr style=\"text-align: right;\">\n",
       "      <th></th>\n",
       "      <th>Unnamed: 0</th>\n",
       "      <th>築年数</th>\n",
       "      <th>賃料</th>\n",
       "      <th>占有面積</th>\n",
       "      <th>賃料予測値</th>\n",
       "      <th>賃料予測値sklearn</th>\n",
       "    </tr>\n",
       "  </thead>\n",
       "  <tbody>\n",
       "    <tr>\n",
       "      <th>0</th>\n",
       "      <td>0</td>\n",
       "      <td>15.0</td>\n",
       "      <td>8.5</td>\n",
       "      <td>20.14</td>\n",
       "      <td>7.832581</td>\n",
       "      <td>7.836816</td>\n",
       "    </tr>\n",
       "    <tr>\n",
       "      <th>1</th>\n",
       "      <td>1</td>\n",
       "      <td>19.0</td>\n",
       "      <td>7.2</td>\n",
       "      <td>20.87</td>\n",
       "      <td>8.097484</td>\n",
       "      <td>8.101719</td>\n",
       "    </tr>\n",
       "    <tr>\n",
       "      <th>2</th>\n",
       "      <td>2</td>\n",
       "      <td>15.0</td>\n",
       "      <td>12.9</td>\n",
       "      <td>28.55</td>\n",
       "      <td>10.884407</td>\n",
       "      <td>10.888643</td>\n",
       "    </tr>\n",
       "    <tr>\n",
       "      <th>3</th>\n",
       "      <td>3</td>\n",
       "      <td>19.0</td>\n",
       "      <td>7.8</td>\n",
       "      <td>20.92</td>\n",
       "      <td>8.115628</td>\n",
       "      <td>8.119863</td>\n",
       "    </tr>\n",
       "    <tr>\n",
       "      <th>4</th>\n",
       "      <td>4</td>\n",
       "      <td>24.0</td>\n",
       "      <td>5.9</td>\n",
       "      <td>18.00</td>\n",
       "      <td>7.056016</td>\n",
       "      <td>7.060252</td>\n",
       "    </tr>\n",
       "  </tbody>\n",
       "</table>\n",
       "</div>"
      ],
      "text/plain": [
       "   Unnamed: 0   築年数    賃料   占有面積      賃料予測値  賃料予測値sklearn\n",
       "0           0  15.0   8.5  20.14   7.832581      7.836816\n",
       "1           1  19.0   7.2  20.87   8.097484      8.101719\n",
       "2           2  15.0  12.9  28.55  10.884407     10.888643\n",
       "3           3  19.0   7.8  20.92   8.115628      8.119863\n",
       "4           4  24.0   5.9  18.00   7.056016      7.060252"
      ]
     },
     "execution_count": 6,
     "metadata": {},
     "output_type": "execute_result"
    }
   ],
   "source": [
    "# 1の確認\n",
    "df['賃料予測値'] = df['占有面積']*beta + alpha\n",
    "df['賃料予測値sklearn'] = df['占有面積']*(clf.coef_) + (clf.intercept_)\n",
    "df.head(5)"
   ]
  },
  {
   "cell_type": "code",
   "execution_count": 7,
   "metadata": {},
   "outputs": [
    {
     "name": "stdout",
     "output_type": "stream",
     "text": [
      "8.99532\n",
      "8.99108466163\n",
      "8.99532\n"
     ]
    }
   ],
   "source": [
    "# うん、sklearnを使ったほうがいいね！\n",
    "print(df['賃料'].mean()) #観測値の平均\n",
    "print(df['賃料予測値'].mean())\n",
    "print(df['賃料予測値sklearn'].mean()) #予測値の平均"
   ]
  },
  {
   "cell_type": "code",
   "execution_count": 8,
   "metadata": {},
   "outputs": [
    {
     "data": {
      "text/html": [
       "<div>\n",
       "<style scoped>\n",
       "    .dataframe tbody tr th:only-of-type {\n",
       "        vertical-align: middle;\n",
       "    }\n",
       "\n",
       "    .dataframe tbody tr th {\n",
       "        vertical-align: top;\n",
       "    }\n",
       "\n",
       "    .dataframe thead th {\n",
       "        text-align: right;\n",
       "    }\n",
       "</style>\n",
       "<table border=\"1\" class=\"dataframe\">\n",
       "  <thead>\n",
       "    <tr style=\"text-align: right;\">\n",
       "      <th></th>\n",
       "      <th>Unnamed: 0</th>\n",
       "      <th>築年数</th>\n",
       "      <th>賃料</th>\n",
       "      <th>占有面積</th>\n",
       "      <th>賃料予測値</th>\n",
       "      <th>賃料予測値sklearn</th>\n",
       "      <th>残差</th>\n",
       "    </tr>\n",
       "  </thead>\n",
       "  <tbody>\n",
       "    <tr>\n",
       "      <th>0</th>\n",
       "      <td>0</td>\n",
       "      <td>15.0</td>\n",
       "      <td>8.5</td>\n",
       "      <td>20.14</td>\n",
       "      <td>7.832581</td>\n",
       "      <td>7.836816</td>\n",
       "      <td>0.663184</td>\n",
       "    </tr>\n",
       "    <tr>\n",
       "      <th>1</th>\n",
       "      <td>1</td>\n",
       "      <td>19.0</td>\n",
       "      <td>7.2</td>\n",
       "      <td>20.87</td>\n",
       "      <td>8.097484</td>\n",
       "      <td>8.101719</td>\n",
       "      <td>-0.901719</td>\n",
       "    </tr>\n",
       "    <tr>\n",
       "      <th>2</th>\n",
       "      <td>2</td>\n",
       "      <td>15.0</td>\n",
       "      <td>12.9</td>\n",
       "      <td>28.55</td>\n",
       "      <td>10.884407</td>\n",
       "      <td>10.888643</td>\n",
       "      <td>2.011357</td>\n",
       "    </tr>\n",
       "    <tr>\n",
       "      <th>3</th>\n",
       "      <td>3</td>\n",
       "      <td>19.0</td>\n",
       "      <td>7.8</td>\n",
       "      <td>20.92</td>\n",
       "      <td>8.115628</td>\n",
       "      <td>8.119863</td>\n",
       "      <td>-0.319863</td>\n",
       "    </tr>\n",
       "    <tr>\n",
       "      <th>4</th>\n",
       "      <td>4</td>\n",
       "      <td>24.0</td>\n",
       "      <td>5.9</td>\n",
       "      <td>18.00</td>\n",
       "      <td>7.056016</td>\n",
       "      <td>7.060252</td>\n",
       "      <td>-1.160252</td>\n",
       "    </tr>\n",
       "  </tbody>\n",
       "</table>\n",
       "</div>"
      ],
      "text/plain": [
       "   Unnamed: 0   築年数    賃料   占有面積      賃料予測値  賃料予測値sklearn        残差\n",
       "0           0  15.0   8.5  20.14   7.832581      7.836816  0.663184\n",
       "1           1  19.0   7.2  20.87   8.097484      8.101719 -0.901719\n",
       "2           2  15.0  12.9  28.55  10.884407     10.888643  2.011357\n",
       "3           3  19.0   7.8  20.92   8.115628      8.119863 -0.319863\n",
       "4           4  24.0   5.9  18.00   7.056016      7.060252 -1.160252"
      ]
     },
     "execution_count": 8,
     "metadata": {},
     "output_type": "execute_result"
    }
   ],
   "source": [
    "# 2の確認\n",
    "df['残差'] = df['賃料'] - df['賃料予測値sklearn']\n",
    "df.head(5)"
   ]
  },
  {
   "cell_type": "code",
   "execution_count": 9,
   "metadata": {},
   "outputs": [
    {
     "data": {
      "text/plain": [
       "8.5265128291212024e-17"
      ]
     },
     "execution_count": 9,
     "metadata": {},
     "output_type": "execute_result"
    }
   ],
   "source": [
    "# まあ0でいっか\n",
    "df['残差'].mean()"
   ]
  },
  {
   "cell_type": "code",
   "execution_count": 10,
   "metadata": {},
   "outputs": [
    {
     "data": {
      "text/plain": [
       "5.6166006895468577e-16"
      ]
     },
     "execution_count": 10,
     "metadata": {},
     "output_type": "execute_result"
    }
   ],
   "source": [
    "# 0じゃないけど。。ほぼ0ということで。。\n",
    "df.loc[:,['賃料予測値sklearn','残差']].corr().iloc[0,1]"
   ]
  },
  {
   "cell_type": "code",
   "execution_count": 11,
   "metadata": {},
   "outputs": [
    {
     "data": {
      "text/plain": [
       "3569.8762487999993"
      ]
     },
     "execution_count": 11,
     "metadata": {},
     "output_type": "execute_result"
    }
   ],
   "source": [
    "# 総平方和\n",
    "df['全変動'] = pow(df['賃料'] - df['賃料'].mean(),2)\n",
    "st = df['全変動'].sum()\n",
    "st"
   ]
  },
  {
   "cell_type": "code",
   "execution_count": 12,
   "metadata": {},
   "outputs": [
    {
     "data": {
      "text/plain": [
       "1262.0833828822476"
      ]
     },
     "execution_count": 12,
     "metadata": {},
     "output_type": "execute_result"
    }
   ],
   "source": [
    "# 回帰の平方和\n",
    "df['回帰変動'] = pow(df['賃料'] - df['賃料予測値sklearn'],2)\n",
    "sr = df['回帰変動'].sum()\n",
    "sr"
   ]
  },
  {
   "cell_type": "code",
   "execution_count": 13,
   "metadata": {},
   "outputs": [
    {
     "data": {
      "text/plain": [
       "2307.7928659177505"
      ]
     },
     "execution_count": 13,
     "metadata": {},
     "output_type": "execute_result"
    }
   ],
   "source": [
    "# 残差平方和\n",
    "df['残差変動'] = pow(df['賃料予測値sklearn'] - df['賃料'].mean(),2)\n",
    "se = df['残差変動'].sum()\n",
    "se"
   ]
  },
  {
   "cell_type": "code",
   "execution_count": 14,
   "metadata": {},
   "outputs": [
    {
     "data": {
      "text/plain": [
       "3569.8762487999984"
      ]
     },
     "execution_count": 14,
     "metadata": {},
     "output_type": "execute_result"
    }
   ],
   "source": [
    "# 回帰の平方和+残差平方和\n",
    "se+sr"
   ]
  },
  {
   "cell_type": "code",
   "execution_count": 15,
   "metadata": {},
   "outputs": [
    {
     "data": {
      "text/plain": [
       "0.6464629878118342"
      ]
     },
     "execution_count": 15,
     "metadata": {},
     "output_type": "execute_result"
    }
   ],
   "source": [
    "# 決定係数\n",
    "se/st"
   ]
  },
  {
   "cell_type": "code",
   "execution_count": 16,
   "metadata": {},
   "outputs": [
    {
     "data": {
      "text/plain": [
       "0.64646298781183464"
      ]
     },
     "execution_count": 16,
     "metadata": {},
     "output_type": "execute_result"
    }
   ],
   "source": [
    "# sklearnを用いて決定係数を導出してみる\n",
    "from sklearn.metrics import r2_score\n",
    "r2_score(df['賃料'], df['賃料予測値sklearn'])  \n",
    "\n",
    "# 自分で求めた値とだいたい同じになった"
   ]
  },
  {
   "cell_type": "code",
   "execution_count": 23,
   "metadata": {},
   "outputs": [
    {
     "data": {
      "text/plain": [
       "<matplotlib.axes._subplots.AxesSubplot at 0x7f3439935d30>"
      ]
     },
     "execution_count": 23,
     "metadata": {},
     "output_type": "execute_result"
    },
    {
     "data": {
      "image/png": "[encoded data removed]",
      "text/plain": [
       "<matplotlib.figure.Figure at 0x7f3439910128>"
      ]
     },
     "metadata": {},
     "output_type": "display_data"
    }
   ],
   "source": [
    "# 残差プロット\n",
    "# 横軸に説明変数または予測値、縦軸に回帰残差をとる\n",
    "# 何らかの規則性や分散の偏りがあるか等を判断することができる。主に重回帰分析に用いる\n",
    "df.plot(kind='scatter',x='賃料',y='残差')"
   ]
  },
  {
   "cell_type": "markdown",
   "metadata": {},
   "source": [
    "### 参考\n",
    "\n",
    "参考1: 日本統計学会 編. 改訂版 日本統計学会公式認定 統計検定2級対応 統計学基礎. 東京図書, 2015, 272p  \n",
    "参考2: 日本統計学会.\"統計検定2級出題範囲表\".http://www.toukei-kentei.jp/wp-content/uploads/grade2_hani_170727.pdf 、(参照2018-02-05).\n"
   ]
  },
  {
   "cell_type": "markdown",
   "metadata": {},
   "source": [
    "*Revision:001 2018/02/24 init*"
   ]
  }
 ],
 "metadata": {
  "kernelspec": {
   "display_name": "Python 3",
   "language": "python",
   "name": "python3"
  },
  "language_info": {
   "codemirror_mode": {
    "name": "ipython",
    "version": 3
   },
   "file_extension": ".py",
   "mimetype": "text/x-python",
   "name": "python",
   "nbconvert_exporter": "python",
   "pygments_lexer": "ipython3",
   "version": "3.6.3"
  }
 },
 "nbformat": 4,
 "nbformat_minor": 2
}
