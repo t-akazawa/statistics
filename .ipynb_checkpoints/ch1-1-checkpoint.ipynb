{
 "cells": [
  {
   "cell_type": "markdown",
   "metadata": {},
   "source": [
    "#### 統計検定2級 学習資料\n",
    "\n",
    "公式サイトの出題範囲表の用語と関連事項をまとめる。"
   ]
  },
  {
   "cell_type": "markdown",
   "metadata": {},
   "source": [
    "----\n",
    "\n",
    "## 1. データの分布"
   ]
  },
  {
   "cell_type": "markdown",
   "metadata": {},
   "source": [
    "\n",
    "### 1.1. データの分布の記述\n",
    "\n",
    "ねらい：集められたデータから，基本的な情報を抽出する方法を理解する。"
   ]
  },
  {
   "cell_type": "markdown",
   "metadata": {},
   "source": [
    "----\n",
    "\n",
    "#### 項目（学習しておくべき用語）\n",
    "\n",
    "|番号|項目|alias|\n",
    "|:---:|:---:|:---:|\n",
    "|ch1_1-1|質的変数|qualitative variable, (カテゴリカル)|\n",
    "|ch1_1-2|量的変数|quantitative variable|\n",
    "|ch1_1-3|幹葉図(みきはず)|stem-and-leaf display|\n",
    "|ch1_1-4|度数分布表|frequency distribution table|\n",
    "|ch1_1-5|ヒストグラム|-|\n",
    "|ch1_1-6|累積相対度数グラフ|cumulative relative frequency graph|\n"
   ]
  },
  {
   "cell_type": "markdown",
   "metadata": {},
   "source": [
    "----\n",
    "\n",
    "#### ch1_1-1 質的変数\n",
    "#### ch1_1-2 量的変数\n",
    "\n",
    "統計学のコンテキストでいう変数の意味は、調査される項目のこと。  \n",
    "データベースのコンテキストでいうと列や属性にあたる。  \n",
    "\n",
    "質的変数=カテゴリで表す。クラス（まとまり）分けすることが目的。  \n",
    "量的変数=数量（観測値）で表される。数字の大小に意味があり、連続量や時系列データとして扱う。 \n",
    "\n",
    "\n",
    "|クラス|学生番号|名前|成績ランク|総合点|\n",
    "|:---|:---|:---|:---|:---|\n",
    "|1|X000001|山田太郎|S|498|\n",
    "|2|X000002|田中次郎|D|150|\n",
    "\n",
    "\n",
    "上記の例だと、  \n",
    "  変数: [クラス、学生番号、名前、成績ランク、総合点],  \n",
    "  量的変数: [総合点],  \n",
    "  質的変数: [クラス、学生番号、名前、成績ランク]\n",
    "  \n",
    "  量的変数のデータを量的データという。例では、総合点の498,150が量的データである。\n",
    "  \n",
    "----"
   ]
  },
  {
   "cell_type": "markdown",
   "metadata": {},
   "source": [
    "#### ch1_1-3 幹葉図\n",
    "\n",
    "例：10人クラスで英語の点数が、[10,11,21,22,22,23,27,30,36,40]だったとする。\n",
    "\n",
    "点数の幹葉図は以下のようになる。\n",
    "\n",
    "```bash\n",
    "1 | 01      # 10,11             #10の位を左側に書き、1の位を右側に書く\n",
    "2 | 12237   # 21,22,22,23,27 => # 2{1,2,2,3,7} => 2 | 12237\n",
    "3 | 06      # 30,36\n",
    "4 | 0       # 40\n",
    "```\n",
    "\n",
    "例では10の位で分けたが、桁数が多い場合の分け方は出題ごとに変わる。\n",
    "中央値は5番目と6番目の値を2で割れば導出できる。 (22+23)/2 = 22.5"
   ]
  },
  {
   "cell_type": "code",
   "execution_count": 4,
   "metadata": {},
   "outputs": [
    {
     "name": "stdout",
     "output_type": "stream",
     "text": [
      "22.5\n"
     ]
    }
   ],
   "source": [
    "# 幹葉図 中央値導出の確認 python\n",
    "\n",
    "import math\n",
    "\n",
    "# print median\n",
    "data = [10,11,21,22,22,23,27,30,36,40]\n",
    "data_len = len(data)\n",
    "data_sorted = sorted(data)\n",
    "half = math.floor(data_len/2)\n",
    "median = (data_sorted[half-1]+data_sorted[half])/2\n",
    "\n",
    "print(median)"
   ]
  },
  {
   "cell_type": "markdown",
   "metadata": {},
   "source": [
    "プログラムで導出した中央値と幹葉図から導出した中央値が一致した。\n",
    "\n",
    "----"
   ]
  },
  {
   "cell_type": "markdown",
   "metadata": {},
   "source": [
    "#### ch1_1-4 度数分布表\n",
    "#### ch1_1-5 ヒストグラム\n",
    "\n",
    "度数分布表=特性値と，その度数または相対度数との関係を観測したもの(日本工業規格)   \n",
    "ヒストグラム=度数分布表から作成する柱状のグラフ  \n",
    "\n",
    "...( ・∇・)実際に手を動かす(pandasは別の章でまとめる)\n",
    "\n",
    "話題の仮想通貨の情報をCoinmarketcapというサイトのAPIで取得し、24時間の価値の変動割合のヒストグラムを作成する。   \n",
    "サービスが終わったら情報は取得できなくなるので、以下のcmc_uriのページが生きているか確認すること。"
   ]
  },
  {
   "cell_type": "code",
   "execution_count": 5,
   "metadata": {},
   "outputs": [
    {
     "data": {
      "text/html": [
       "<div>\n",
       "<style scoped>\n",
       "    .dataframe tbody tr th:only-of-type {\n",
       "        vertical-align: middle;\n",
       "    }\n",
       "\n",
       "    .dataframe tbody tr th {\n",
       "        vertical-align: top;\n",
       "    }\n",
       "\n",
       "    .dataframe thead th {\n",
       "        text-align: right;\n",
       "    }\n",
       "</style>\n",
       "<table border=\"1\" class=\"dataframe\">\n",
       "  <thead>\n",
       "    <tr style=\"text-align: right;\">\n",
       "      <th></th>\n",
       "      <th>name</th>\n",
       "      <th>percent_change_24h</th>\n",
       "    </tr>\n",
       "  </thead>\n",
       "  <tbody>\n",
       "    <tr>\n",
       "      <th>0</th>\n",
       "      <td>Bitcoin</td>\n",
       "      <td>16.82</td>\n",
       "    </tr>\n",
       "    <tr>\n",
       "      <th>1</th>\n",
       "      <td>Ethereum</td>\n",
       "      <td>15.76</td>\n",
       "    </tr>\n",
       "    <tr>\n",
       "      <th>2</th>\n",
       "      <td>Ripple</td>\n",
       "      <td>10.58</td>\n",
       "    </tr>\n",
       "    <tr>\n",
       "      <th>3</th>\n",
       "      <td>Bitcoin Cash</td>\n",
       "      <td>13.88</td>\n",
       "    </tr>\n",
       "    <tr>\n",
       "      <th>4</th>\n",
       "      <td>Cardano</td>\n",
       "      <td>7.88</td>\n",
       "    </tr>\n",
       "  </tbody>\n",
       "</table>\n",
       "</div>"
      ],
      "text/plain": [
       "           name  percent_change_24h\n",
       "0       Bitcoin               16.82\n",
       "1      Ethereum               15.76\n",
       "2        Ripple               10.58\n",
       "3  Bitcoin Cash               13.88\n",
       "4       Cardano                7.88"
      ]
     },
     "execution_count": 5,
     "metadata": {},
     "output_type": "execute_result"
    }
   ],
   "source": [
    "# pandasを使ってヒストグラムを作成する\n",
    "import pandas as pd\n",
    "import numpy as np\n",
    "\n",
    "# Coinmarcketcap API\n",
    "cmc_uri = 'https://api.coinmarketcap.com/v1/ticker/?convert=JPY&limit=0'\n",
    "\n",
    "# json形式で取得した情報をpandasでdataflameに変換する\n",
    "df = pd.read_json(cmc_uri)\n",
    "\n",
    "# 24時間の価格の変動割合の情報がない仮想通貨を削除する\n",
    "cmc = df.dropna(axis=0,subset=['percent_change_24h'])\n",
    "\n",
    "# percent_change_24h,nameの変数だけ抽出する\n",
    "dfext = df.loc[:,['name','percent_change_24h']]\n",
    "\n",
    "dfext.head(5)"
   ]
  },
  {
   "cell_type": "code",
   "execution_count": 7,
   "metadata": {},
   "outputs": [
    {
     "data": {
      "text/html": [
       "<div>\n",
       "<style scoped>\n",
       "    .dataframe tbody tr th:only-of-type {\n",
       "        vertical-align: middle;\n",
       "    }\n",
       "\n",
       "    .dataframe tbody tr th {\n",
       "        vertical-align: top;\n",
       "    }\n",
       "\n",
       "    .dataframe thead th {\n",
       "        text-align: right;\n",
       "    }\n",
       "</style>\n",
       "<table border=\"1\" class=\"dataframe\">\n",
       "  <thead>\n",
       "    <tr style=\"text-align: right;\">\n",
       "      <th></th>\n",
       "      <th>name</th>\n",
       "      <th>percent_change_24h</th>\n",
       "    </tr>\n",
       "  </thead>\n",
       "  <tbody>\n",
       "    <tr>\n",
       "      <th>1403</th>\n",
       "      <td>LandCoin</td>\n",
       "      <td>305.53</td>\n",
       "    </tr>\n",
       "    <tr>\n",
       "      <th>1267</th>\n",
       "      <td>MobileCash</td>\n",
       "      <td>194.13</td>\n",
       "    </tr>\n",
       "    <tr>\n",
       "      <th>850</th>\n",
       "      <td>Bitcoin Planet</td>\n",
       "      <td>187.04</td>\n",
       "    </tr>\n",
       "    <tr>\n",
       "      <th>716</th>\n",
       "      <td>Aricoin</td>\n",
       "      <td>180.73</td>\n",
       "    </tr>\n",
       "    <tr>\n",
       "      <th>167</th>\n",
       "      <td>Paypex</td>\n",
       "      <td>165.35</td>\n",
       "    </tr>\n",
       "  </tbody>\n",
       "</table>\n",
       "</div>"
      ],
      "text/plain": [
       "                name  percent_change_24h\n",
       "1403        LandCoin              305.53\n",
       "1267      MobileCash              194.13\n",
       "850   Bitcoin Planet              187.04\n",
       "716          Aricoin              180.73\n",
       "167           Paypex              165.35"
      ]
     },
     "execution_count": 7,
     "metadata": {},
     "output_type": "execute_result"
    }
   ],
   "source": [
    "# ソートしてみる\n",
    "dfsort = dfext.sort_values(by=[\"percent_change_24h\"], ascending=False)\n",
    "dfsort.head(5)"
   ]
  },
  {
   "cell_type": "markdown",
   "metadata": {},
   "source": [
    "やっとこさ度数分布表を作るためのデータ抽出が完了したので度数分布表を作成する。\n",
    "\n",
    "度数分布表の作成手順：\n",
    "1. 階級の数、階級の間隔を決める  \n",
    "  sturges' ruleを用いて階級数を決める\n",
    "2. 分布表における初めの階級の最小値を決める\n",
    "3. 数えあげて度数を表にする"
   ]
  },
  {
   "cell_type": "code",
   "execution_count": 8,
   "metadata": {},
   "outputs": [
    {
     "data": {
      "image/png": "[encoded data removed]",
      "text/latex": [
       "$$\\frac{\\log{\\left (N \\right )}}{\\log{\\left (2 \\right )}} + 1$$"
      ],
      "text/plain": [
       "log(N)    \n",
       "────── + 1\n",
       "log(2)    "
      ]
     },
     "execution_count": 8,
     "metadata": {},
     "output_type": "execute_result"
    }
   ],
   "source": [
    "# 1. sturges' rule\n",
    "%matplotlib inline\n",
    "from sympy import *\n",
    "init_printing()\n",
    "\n",
    "x = Symbol('N')\n",
    "expr = log(x)/log(2) + 1\n",
    "expr"
   ]
  },
  {
   "cell_type": "markdown",
   "metadata": {},
   "source": [
    "上記数式のNはサンプル数を表し、階級数を決める。"
   ]
  },
  {
   "cell_type": "code",
   "execution_count": 9,
   "metadata": {},
   "outputs": [
    {
     "data": {
      "text/html": [
       "<div>\n",
       "<style scoped>\n",
       "    .dataframe tbody tr th:only-of-type {\n",
       "        vertical-align: middle;\n",
       "    }\n",
       "\n",
       "    .dataframe tbody tr th {\n",
       "        vertical-align: top;\n",
       "    }\n",
       "\n",
       "    .dataframe thead th {\n",
       "        text-align: right;\n",
       "    }\n",
       "</style>\n",
       "<table border=\"1\" class=\"dataframe\">\n",
       "  <thead>\n",
       "    <tr style=\"text-align: right;\">\n",
       "      <th></th>\n",
       "      <th>percent_change_24h</th>\n",
       "    </tr>\n",
       "  </thead>\n",
       "  <tbody>\n",
       "    <tr>\n",
       "      <th>count</th>\n",
       "      <td>1479.000000</td>\n",
       "    </tr>\n",
       "    <tr>\n",
       "      <th>mean</th>\n",
       "      <td>22.632434</td>\n",
       "    </tr>\n",
       "    <tr>\n",
       "      <th>std</th>\n",
       "      <td>24.159308</td>\n",
       "    </tr>\n",
       "    <tr>\n",
       "      <th>min</th>\n",
       "      <td>-90.090000</td>\n",
       "    </tr>\n",
       "    <tr>\n",
       "      <th>25%</th>\n",
       "      <td>10.570000</td>\n",
       "    </tr>\n",
       "    <tr>\n",
       "      <th>50%</th>\n",
       "      <td>20.350000</td>\n",
       "    </tr>\n",
       "    <tr>\n",
       "      <th>75%</th>\n",
       "      <td>31.025000</td>\n",
       "    </tr>\n",
       "    <tr>\n",
       "      <th>max</th>\n",
       "      <td>305.530000</td>\n",
       "    </tr>\n",
       "  </tbody>\n",
       "</table>\n",
       "</div>"
      ],
      "text/plain": [
       "       percent_change_24h\n",
       "count         1479.000000\n",
       "mean            22.632434\n",
       "std             24.159308\n",
       "min            -90.090000\n",
       "25%             10.570000\n",
       "50%             20.350000\n",
       "75%             31.025000\n",
       "max            305.530000"
      ]
     },
     "execution_count": 9,
     "metadata": {},
     "output_type": "execute_result"
    }
   ],
   "source": [
    "# 1, 2.統計量を導出する\n",
    "dfsort.describe()"
   ]
  },
  {
   "cell_type": "code",
   "execution_count": 10,
   "metadata": {},
   "outputs": [
    {
     "name": "stdout",
     "output_type": "stream",
     "text": [
      "11.5304063370991\n"
     ]
    }
   ],
   "source": [
    "# 1, countの値をシンボルNに代入して階級数を求める\n",
    "# HACK: const 1479 -> val\n",
    "print(expr.subs([(x, 1479)]).evalf())"
   ]
  },
  {
   "cell_type": "code",
   "execution_count": 88,
   "metadata": {},
   "outputs": [
    {
     "data": {
      "text/html": [
       "<div>\n",
       "<style scoped>\n",
       "    .dataframe tbody tr th:only-of-type {\n",
       "        vertical-align: middle;\n",
       "    }\n",
       "\n",
       "    .dataframe tbody tr th {\n",
       "        vertical-align: top;\n",
       "    }\n",
       "\n",
       "    .dataframe thead th {\n",
       "        text-align: right;\n",
       "    }\n",
       "</style>\n",
       "<table border=\"1\" class=\"dataframe\">\n",
       "  <thead>\n",
       "    <tr style=\"text-align: right;\">\n",
       "      <th></th>\n",
       "      <th>percent_change_24h</th>\n",
       "    </tr>\n",
       "  </thead>\n",
       "  <tbody>\n",
       "    <tr>\n",
       "      <th>(-100, -88]</th>\n",
       "      <td>1.0</td>\n",
       "    </tr>\n",
       "    <tr>\n",
       "      <th>(-88, -76]</th>\n",
       "      <td>1.0</td>\n",
       "    </tr>\n",
       "    <tr>\n",
       "      <th>(-76, -64]</th>\n",
       "      <td>1.0</td>\n",
       "    </tr>\n",
       "    <tr>\n",
       "      <th>(-64, -52]</th>\n",
       "      <td>NaN</td>\n",
       "    </tr>\n",
       "    <tr>\n",
       "      <th>(-52, -40]</th>\n",
       "      <td>6.0</td>\n",
       "    </tr>\n",
       "    <tr>\n",
       "      <th>(-40, -28]</th>\n",
       "      <td>9.0</td>\n",
       "    </tr>\n",
       "    <tr>\n",
       "      <th>(-28, -16]</th>\n",
       "      <td>9.0</td>\n",
       "    </tr>\n",
       "    <tr>\n",
       "      <th>(-16, -4]</th>\n",
       "      <td>38.0</td>\n",
       "    </tr>\n",
       "    <tr>\n",
       "      <th>(-4, 8]</th>\n",
       "      <td>256.0</td>\n",
       "    </tr>\n",
       "    <tr>\n",
       "      <th>(8, 20]</th>\n",
       "      <td>402.0</td>\n",
       "    </tr>\n",
       "    <tr>\n",
       "      <th>(20, 32]</th>\n",
       "      <td>410.0</td>\n",
       "    </tr>\n",
       "    <tr>\n",
       "      <th>(32, 44]</th>\n",
       "      <td>194.0</td>\n",
       "    </tr>\n",
       "    <tr>\n",
       "      <th>(44, 56]</th>\n",
       "      <td>73.0</td>\n",
       "    </tr>\n",
       "    <tr>\n",
       "      <th>(56, 68]</th>\n",
       "      <td>27.0</td>\n",
       "    </tr>\n",
       "    <tr>\n",
       "      <th>(68, 80]</th>\n",
       "      <td>21.0</td>\n",
       "    </tr>\n",
       "    <tr>\n",
       "      <th>(80, 92]</th>\n",
       "      <td>10.0</td>\n",
       "    </tr>\n",
       "  </tbody>\n",
       "</table>\n",
       "</div>"
      ],
      "text/plain": [
       "             percent_change_24h\n",
       "(-100, -88]                 1.0\n",
       "(-88, -76]                  1.0\n",
       "(-76, -64]                  1.0\n",
       "(-64, -52]                  NaN\n",
       "(-52, -40]                  6.0\n",
       "(-40, -28]                  9.0\n",
       "(-28, -16]                  9.0\n",
       "(-16, -4]                  38.0\n",
       "(-4, 8]                   256.0\n",
       "(8, 20]                   402.0\n",
       "(20, 32]                  410.0\n",
       "(32, 44]                  194.0\n",
       "(44, 56]                   73.0\n",
       "(56, 68]                   27.0\n",
       "(68, 80]                   21.0\n",
       "(80, 92]                   10.0"
      ]
     },
     "execution_count": 88,
     "metadata": {},
     "output_type": "execute_result"
    }
   ],
   "source": [
    "# 階級数=12とする。最小値を-100,最大値を100とする。\n",
    "# 100%以上の通貨は3つしかないので外れ値として除外して表示させる。\n",
    "# 3.\n",
    "frq = dfsort.groupby('percent_change_24h')['name'].count().apply(lambda x: pd.Series([x], index=['percent_change_24h']))\n",
    "# HACK: const -100,100,12 -> val\n",
    "c = pd.cut(frq.index, np.arange(-100, 100, 12))\n",
    "classfied_frequency = frq.groupby(c).sum()\n",
    "\n",
    "classfied_frequency.head(20)"
   ]
  },
  {
   "cell_type": "markdown",
   "metadata": {},
   "source": [
    "あまり綺麗な度数分布表にはなっていないが一応完成!  \n",
    "階級数と間隔をどのようにするかで見え方が変わることに注意する。"
   ]
  },
  {
   "cell_type": "code",
   "execution_count": 89,
   "metadata": {},
   "outputs": [
    {
     "data": {
      "text/plain": [
       "<matplotlib.axes._subplots.AxesSubplot at 0x7f1b1bc77d30>"
      ]
     },
     "execution_count": 89,
     "metadata": {},
     "output_type": "execute_result"
    },
    {
     "data": {
      "image/png": "[encoded data removed]",
      "text/plain": [
       "<matplotlib.figure.Figure at 0x7f1b1b720518>"
      ]
     },
     "metadata": {},
     "output_type": "display_data"
    }
   ],
   "source": [
    "# ヒストグラム作成\n",
    "import matplotlib.pyplot as plt\n",
    "import matplotlib as mpl\n",
    "font = {\"family\":\"DejaVu Sans\"}\n",
    "mpl.rc('font', **font)\n",
    "\n",
    "classfied_frequency.plot(kind='bar')"
   ]
  },
  {
   "cell_type": "code",
   "execution_count": 90,
   "metadata": {},
   "outputs": [
    {
     "data": {
      "text/plain": [
       "<matplotlib.axes._subplots.AxesSubplot at 0x7f1b1b98add8>"
      ]
     },
     "execution_count": 90,
     "metadata": {},
     "output_type": "execute_result"
    },
    {
     "data": {
      "image/png": "[encoded data removed]",
      "text/plain": [
       "<matplotlib.figure.Figure at 0x7f1b1d9557b8>"
      ]
     },
     "metadata": {},
     "output_type": "display_data"
    }
   ],
   "source": [
    "# 別のヒストグラム作成方法 pandasのAPI\n",
    "dfsort.plot(kind='hist', alpha=0.8, bins=100, figsize=(12,4))"
   ]
  },
  {
   "cell_type": "markdown",
   "metadata": {},
   "source": [
    "----"
   ]
  },
  {
   "cell_type": "markdown",
   "metadata": {},
   "source": [
    "#### ch1_1-6 累積相対度数グラフ\n",
    "\n",
    "ヒストグラムはデータの区間ごとの度数はわかるが、ある区間までで全体の何％が占められているかわからない。  \n",
    "累積相対度数グラフでは、相対度数を積み上げてある区間で全体の何％が占められているかを視覚化する。"
   ]
  },
  {
   "cell_type": "code",
   "execution_count": 91,
   "metadata": {},
   "outputs": [
    {
     "data": {
      "text/html": [
       "<div>\n",
       "<style scoped>\n",
       "    .dataframe tbody tr th:only-of-type {\n",
       "        vertical-align: middle;\n",
       "    }\n",
       "\n",
       "    .dataframe tbody tr th {\n",
       "        vertical-align: top;\n",
       "    }\n",
       "\n",
       "    .dataframe thead th {\n",
       "        text-align: right;\n",
       "    }\n",
       "</style>\n",
       "<table border=\"1\" class=\"dataframe\">\n",
       "  <thead>\n",
       "    <tr style=\"text-align: right;\">\n",
       "      <th></th>\n",
       "      <th>percent_change_24h</th>\n",
       "      <th>relative_freq</th>\n",
       "    </tr>\n",
       "  </thead>\n",
       "  <tbody>\n",
       "    <tr>\n",
       "      <th>(-100, -88]</th>\n",
       "      <td>1.0</td>\n",
       "      <td>0.000686</td>\n",
       "    </tr>\n",
       "    <tr>\n",
       "      <th>(-88, -76]</th>\n",
       "      <td>1.0</td>\n",
       "      <td>0.000686</td>\n",
       "    </tr>\n",
       "    <tr>\n",
       "      <th>(-76, -64]</th>\n",
       "      <td>1.0</td>\n",
       "      <td>0.000686</td>\n",
       "    </tr>\n",
       "    <tr>\n",
       "      <th>(-64, -52]</th>\n",
       "      <td>NaN</td>\n",
       "      <td>NaN</td>\n",
       "    </tr>\n",
       "    <tr>\n",
       "      <th>(-52, -40]</th>\n",
       "      <td>6.0</td>\n",
       "      <td>0.004115</td>\n",
       "    </tr>\n",
       "    <tr>\n",
       "      <th>(-40, -28]</th>\n",
       "      <td>9.0</td>\n",
       "      <td>0.006173</td>\n",
       "    </tr>\n",
       "    <tr>\n",
       "      <th>(-28, -16]</th>\n",
       "      <td>9.0</td>\n",
       "      <td>0.006173</td>\n",
       "    </tr>\n",
       "    <tr>\n",
       "      <th>(-16, -4]</th>\n",
       "      <td>38.0</td>\n",
       "      <td>0.026063</td>\n",
       "    </tr>\n",
       "    <tr>\n",
       "      <th>(-4, 8]</th>\n",
       "      <td>256.0</td>\n",
       "      <td>0.175583</td>\n",
       "    </tr>\n",
       "    <tr>\n",
       "      <th>(8, 20]</th>\n",
       "      <td>402.0</td>\n",
       "      <td>0.275720</td>\n",
       "    </tr>\n",
       "    <tr>\n",
       "      <th>(20, 32]</th>\n",
       "      <td>410.0</td>\n",
       "      <td>0.281207</td>\n",
       "    </tr>\n",
       "    <tr>\n",
       "      <th>(32, 44]</th>\n",
       "      <td>194.0</td>\n",
       "      <td>0.133059</td>\n",
       "    </tr>\n",
       "    <tr>\n",
       "      <th>(44, 56]</th>\n",
       "      <td>73.0</td>\n",
       "      <td>0.050069</td>\n",
       "    </tr>\n",
       "    <tr>\n",
       "      <th>(56, 68]</th>\n",
       "      <td>27.0</td>\n",
       "      <td>0.018519</td>\n",
       "    </tr>\n",
       "    <tr>\n",
       "      <th>(68, 80]</th>\n",
       "      <td>21.0</td>\n",
       "      <td>0.014403</td>\n",
       "    </tr>\n",
       "    <tr>\n",
       "      <th>(80, 92]</th>\n",
       "      <td>10.0</td>\n",
       "      <td>0.006859</td>\n",
       "    </tr>\n",
       "  </tbody>\n",
       "</table>\n",
       "</div>"
      ],
      "text/plain": [
       "             percent_change_24h  relative_freq\n",
       "(-100, -88]                 1.0       0.000686\n",
       "(-88, -76]                  1.0       0.000686\n",
       "(-76, -64]                  1.0       0.000686\n",
       "(-64, -52]                  NaN            NaN\n",
       "(-52, -40]                  6.0       0.004115\n",
       "(-40, -28]                  9.0       0.006173\n",
       "(-28, -16]                  9.0       0.006173\n",
       "(-16, -4]                  38.0       0.026063\n",
       "(-4, 8]                   256.0       0.175583\n",
       "(8, 20]                   402.0       0.275720\n",
       "(20, 32]                  410.0       0.281207\n",
       "(32, 44]                  194.0       0.133059\n",
       "(44, 56]                   73.0       0.050069\n",
       "(56, 68]                   27.0       0.018519\n",
       "(68, 80]                   21.0       0.014403\n",
       "(80, 92]                   10.0       0.006859"
      ]
     },
     "execution_count": 91,
     "metadata": {},
     "output_type": "execute_result"
    }
   ],
   "source": [
    "total_count=classfied_frequency.sum()[0]\n",
    "\n",
    "classfied_frequency['relative_freq'] = classfied_frequency['percent_change_24h']/total_count\n",
    "classfied_frequency.head(20)"
   ]
  },
  {
   "cell_type": "code",
   "execution_count": 92,
   "metadata": {},
   "outputs": [
    {
     "data": {
      "text/html": [
       "<div>\n",
       "<style scoped>\n",
       "    .dataframe tbody tr th:only-of-type {\n",
       "        vertical-align: middle;\n",
       "    }\n",
       "\n",
       "    .dataframe tbody tr th {\n",
       "        vertical-align: top;\n",
       "    }\n",
       "\n",
       "    .dataframe thead th {\n",
       "        text-align: right;\n",
       "    }\n",
       "</style>\n",
       "<table border=\"1\" class=\"dataframe\">\n",
       "  <thead>\n",
       "    <tr style=\"text-align: right;\">\n",
       "      <th></th>\n",
       "      <th>percent_change_24h</th>\n",
       "      <th>relative_freq</th>\n",
       "      <th>cum_relative_freq</th>\n",
       "    </tr>\n",
       "  </thead>\n",
       "  <tbody>\n",
       "    <tr>\n",
       "      <th>(-100, -88]</th>\n",
       "      <td>1.0</td>\n",
       "      <td>0.000686</td>\n",
       "      <td>0.000686</td>\n",
       "    </tr>\n",
       "    <tr>\n",
       "      <th>(-88, -76]</th>\n",
       "      <td>1.0</td>\n",
       "      <td>0.000686</td>\n",
       "      <td>0.001372</td>\n",
       "    </tr>\n",
       "    <tr>\n",
       "      <th>(-76, -64]</th>\n",
       "      <td>1.0</td>\n",
       "      <td>0.000686</td>\n",
       "      <td>0.002058</td>\n",
       "    </tr>\n",
       "    <tr>\n",
       "      <th>(-64, -52]</th>\n",
       "      <td>NaN</td>\n",
       "      <td>NaN</td>\n",
       "      <td>NaN</td>\n",
       "    </tr>\n",
       "    <tr>\n",
       "      <th>(-52, -40]</th>\n",
       "      <td>6.0</td>\n",
       "      <td>0.004115</td>\n",
       "      <td>0.006173</td>\n",
       "    </tr>\n",
       "    <tr>\n",
       "      <th>(-40, -28]</th>\n",
       "      <td>9.0</td>\n",
       "      <td>0.006173</td>\n",
       "      <td>0.012346</td>\n",
       "    </tr>\n",
       "    <tr>\n",
       "      <th>(-28, -16]</th>\n",
       "      <td>9.0</td>\n",
       "      <td>0.006173</td>\n",
       "      <td>0.018519</td>\n",
       "    </tr>\n",
       "    <tr>\n",
       "      <th>(-16, -4]</th>\n",
       "      <td>38.0</td>\n",
       "      <td>0.026063</td>\n",
       "      <td>0.044582</td>\n",
       "    </tr>\n",
       "    <tr>\n",
       "      <th>(-4, 8]</th>\n",
       "      <td>256.0</td>\n",
       "      <td>0.175583</td>\n",
       "      <td>0.220165</td>\n",
       "    </tr>\n",
       "    <tr>\n",
       "      <th>(8, 20]</th>\n",
       "      <td>402.0</td>\n",
       "      <td>0.275720</td>\n",
       "      <td>0.495885</td>\n",
       "    </tr>\n",
       "    <tr>\n",
       "      <th>(20, 32]</th>\n",
       "      <td>410.0</td>\n",
       "      <td>0.281207</td>\n",
       "      <td>0.777092</td>\n",
       "    </tr>\n",
       "    <tr>\n",
       "      <th>(32, 44]</th>\n",
       "      <td>194.0</td>\n",
       "      <td>0.133059</td>\n",
       "      <td>0.910151</td>\n",
       "    </tr>\n",
       "    <tr>\n",
       "      <th>(44, 56]</th>\n",
       "      <td>73.0</td>\n",
       "      <td>0.050069</td>\n",
       "      <td>0.960219</td>\n",
       "    </tr>\n",
       "    <tr>\n",
       "      <th>(56, 68]</th>\n",
       "      <td>27.0</td>\n",
       "      <td>0.018519</td>\n",
       "      <td>0.978738</td>\n",
       "    </tr>\n",
       "    <tr>\n",
       "      <th>(68, 80]</th>\n",
       "      <td>21.0</td>\n",
       "      <td>0.014403</td>\n",
       "      <td>0.993141</td>\n",
       "    </tr>\n",
       "    <tr>\n",
       "      <th>(80, 92]</th>\n",
       "      <td>10.0</td>\n",
       "      <td>0.006859</td>\n",
       "      <td>1.000000</td>\n",
       "    </tr>\n",
       "  </tbody>\n",
       "</table>\n",
       "</div>"
      ],
      "text/plain": [
       "             percent_change_24h  relative_freq  cum_relative_freq\n",
       "(-100, -88]                 1.0       0.000686           0.000686\n",
       "(-88, -76]                  1.0       0.000686           0.001372\n",
       "(-76, -64]                  1.0       0.000686           0.002058\n",
       "(-64, -52]                  NaN            NaN                NaN\n",
       "(-52, -40]                  6.0       0.004115           0.006173\n",
       "(-40, -28]                  9.0       0.006173           0.012346\n",
       "(-28, -16]                  9.0       0.006173           0.018519\n",
       "(-16, -4]                  38.0       0.026063           0.044582\n",
       "(-4, 8]                   256.0       0.175583           0.220165\n",
       "(8, 20]                   402.0       0.275720           0.495885\n",
       "(20, 32]                  410.0       0.281207           0.777092\n",
       "(32, 44]                  194.0       0.133059           0.910151\n",
       "(44, 56]                   73.0       0.050069           0.960219\n",
       "(56, 68]                   27.0       0.018519           0.978738\n",
       "(68, 80]                   21.0       0.014403           0.993141\n",
       "(80, 92]                   10.0       0.006859           1.000000"
      ]
     },
     "execution_count": 92,
     "metadata": {},
     "output_type": "execute_result"
    }
   ],
   "source": [
    "classfied_frequency['cum_relative_freq'] = classfied_frequency['relative_freq'].cumsum()\n",
    "classfied_frequency.head(20)"
   ]
  },
  {
   "cell_type": "code",
   "execution_count": 96,
   "metadata": {},
   "outputs": [
    {
     "data": {
      "text/plain": [
       "<matplotlib.axes._subplots.AxesSubplot at 0x7f1b2020c048>"
      ]
     },
     "execution_count": 96,
     "metadata": {},
     "output_type": "execute_result"
    },
    {
     "data": {
      "image/png": "[encoded data removed]",
      "text/plain": [
       "<matplotlib.figure.Figure at 0x7f1b1b7f9f98>"
      ]
     },
     "metadata": {},
     "output_type": "display_data"
    }
   ],
   "source": [
    "# 累積相対度数グラフ\n",
    "\n",
    "#classfied_frequency.plot(kind='area',x=['percent_change_24h','relative_freq'])\n",
    "classfied_frequency.plot.bar(y='cum_relative_freq')"
   ]
  },
  {
   "cell_type": "code",
   "execution_count": null,
   "metadata": {},
   "outputs": [],
   "source": []
  },
  {
   "cell_type": "markdown",
   "metadata": {},
   "source": [
    "### 参考\n",
    "\n",
    "参考1: 日本統計学会 編. 改訂版 日本統計学会公式認定 統計検定2級対応 統計学基礎. 東京図書, 2015, 272p  \n",
    "参考2: 日本統計学会.\"統計検定2級出題範囲表\".http://www.toukei-kentei.jp/wp-content/uploads/grade2_hani_170727.pdf 、(参照2018-02-05).\n"
   ]
  },
  {
   "cell_type": "markdown",
   "metadata": {},
   "source": [
    "*Revision:001 2018/02/05 init*"
   ]
  }
 ],
 "metadata": {
  "kernelspec": {
   "display_name": "Python 3",
   "language": "python",
   "name": "python3"
  },
  "language_info": {
   "codemirror_mode": {
    "name": "ipython",
    "version": 3
   },
   "file_extension": ".py",
   "mimetype": "text/x-python",
   "name": "python",
   "nbconvert_exporter": "python",
   "pygments_lexer": "ipython3",
   "version": "3.6.3"
  }
 },
 "nbformat": 4,
 "nbformat_minor": 2
}
